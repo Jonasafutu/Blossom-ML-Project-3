{
 "cells": [
  {
   "cell_type": "markdown",
   "metadata": {},
   "source": [
    "## Import Libraries"
   ]
  },
  {
   "cell_type": "code",
   "execution_count": 6,
   "metadata": {},
   "outputs": [],
   "source": [
    "# Data manipulation\n",
    "import pandas as pd\n",
    "import pandas_profiling\n",
    "import numpy as np\n",
    "\n",
    "# Data visualization\n",
    "import matplotlib.pyplot as plt\n",
    "%matplotlib inline\n",
    "from matplotlib.ticker import FuncFormatter\n",
    "import matplotlib.style as style\n",
    "style.use('ggplot')\n",
    "\n",
    "import seaborn as sns\n",
    "sns.set(style='white', context='notebook', color_codes=True) \n",
    "sns.set_context('talk') # Set defaults for graphs\n",
    "\n",
    "# Set options\n",
    "pd.set_option(\"display.max_columns\", 150)\n",
    "pd.set_option(\"display.max_rows\", 10000)\n",
    "pd.set_option(\"display.float_format\", lambda x: '%.2f' % x)\n",
    "\n",
    "# Set today's date\n",
    "import datetime as dt\n",
    "today = dt.datetime.today().strftime(\"%Y.%m.%d\")"
   ]
  },
  {
   "cell_type": "markdown",
   "metadata": {},
   "source": [
    "## Load and Inspect Structure"
   ]
  },
  {
   "cell_type": "code",
   "execution_count": 7,
   "metadata": {},
   "outputs": [
    {
     "data": {
      "text/html": [
       "<div>\n",
       "<style scoped>\n",
       "    .dataframe tbody tr th:only-of-type {\n",
       "        vertical-align: middle;\n",
       "    }\n",
       "\n",
       "    .dataframe tbody tr th {\n",
       "        vertical-align: top;\n",
       "    }\n",
       "\n",
       "    .dataframe thead th {\n",
       "        text-align: right;\n",
       "    }\n",
       "</style>\n",
       "<table border=\"1\" class=\"dataframe\">\n",
       "  <thead>\n",
       "    <tr style=\"text-align: right;\">\n",
       "      <th></th>\n",
       "      <th>EmployeeNo</th>\n",
       "      <th>Division</th>\n",
       "      <th>Qualification</th>\n",
       "      <th>Gender</th>\n",
       "      <th>Channel_of_Recruitment</th>\n",
       "      <th>Trainings_Attended</th>\n",
       "      <th>Year_of_birth</th>\n",
       "      <th>Last_performance_score</th>\n",
       "      <th>Year_of_recruitment</th>\n",
       "      <th>Targets_met</th>\n",
       "      <th>Previous_Award</th>\n",
       "      <th>Training_score_average</th>\n",
       "      <th>Foreign_schooled</th>\n",
       "      <th>Past_Disciplinary_Action</th>\n",
       "      <th>Previous_IntraDepartmental_Movement</th>\n",
       "      <th>No_of_previous_employers</th>\n",
       "      <th>Promoted_or_Not</th>\n",
       "    </tr>\n",
       "  </thead>\n",
       "  <tbody>\n",
       "    <tr>\n",
       "      <th>0</th>\n",
       "      <td>YAK/S/00001</td>\n",
       "      <td>Commercial Sales and Marketing</td>\n",
       "      <td>MSc, MBA and PhD</td>\n",
       "      <td>Female</td>\n",
       "      <td>Direct Internal process</td>\n",
       "      <td>2</td>\n",
       "      <td>1986</td>\n",
       "      <td>12.50</td>\n",
       "      <td>2011</td>\n",
       "      <td>1</td>\n",
       "      <td>0</td>\n",
       "      <td>41</td>\n",
       "      <td>No</td>\n",
       "      <td>No</td>\n",
       "      <td>No</td>\n",
       "      <td>0</td>\n",
       "      <td>0</td>\n",
       "    </tr>\n",
       "    <tr>\n",
       "      <th>1</th>\n",
       "      <td>YAK/S/00002</td>\n",
       "      <td>Customer Support and Field Operations</td>\n",
       "      <td>First Degree or HND</td>\n",
       "      <td>Male</td>\n",
       "      <td>Agency and others</td>\n",
       "      <td>2</td>\n",
       "      <td>1991</td>\n",
       "      <td>12.50</td>\n",
       "      <td>2015</td>\n",
       "      <td>0</td>\n",
       "      <td>0</td>\n",
       "      <td>52</td>\n",
       "      <td>Yes</td>\n",
       "      <td>No</td>\n",
       "      <td>No</td>\n",
       "      <td>0</td>\n",
       "      <td>0</td>\n",
       "    </tr>\n",
       "    <tr>\n",
       "      <th>2</th>\n",
       "      <td>YAK/S/00003</td>\n",
       "      <td>Commercial Sales and Marketing</td>\n",
       "      <td>First Degree or HND</td>\n",
       "      <td>Male</td>\n",
       "      <td>Direct Internal process</td>\n",
       "      <td>2</td>\n",
       "      <td>1987</td>\n",
       "      <td>7.50</td>\n",
       "      <td>2012</td>\n",
       "      <td>0</td>\n",
       "      <td>0</td>\n",
       "      <td>42</td>\n",
       "      <td>Yes</td>\n",
       "      <td>No</td>\n",
       "      <td>No</td>\n",
       "      <td>0</td>\n",
       "      <td>0</td>\n",
       "    </tr>\n",
       "    <tr>\n",
       "      <th>3</th>\n",
       "      <td>YAK/S/00004</td>\n",
       "      <td>Commercial Sales and Marketing</td>\n",
       "      <td>First Degree or HND</td>\n",
       "      <td>Male</td>\n",
       "      <td>Agency and others</td>\n",
       "      <td>3</td>\n",
       "      <td>1982</td>\n",
       "      <td>2.50</td>\n",
       "      <td>2009</td>\n",
       "      <td>0</td>\n",
       "      <td>0</td>\n",
       "      <td>42</td>\n",
       "      <td>Yes</td>\n",
       "      <td>No</td>\n",
       "      <td>No</td>\n",
       "      <td>1</td>\n",
       "      <td>0</td>\n",
       "    </tr>\n",
       "    <tr>\n",
       "      <th>4</th>\n",
       "      <td>YAK/S/00006</td>\n",
       "      <td>Information and Strategy</td>\n",
       "      <td>First Degree or HND</td>\n",
       "      <td>Male</td>\n",
       "      <td>Direct Internal process</td>\n",
       "      <td>3</td>\n",
       "      <td>1990</td>\n",
       "      <td>7.50</td>\n",
       "      <td>2012</td>\n",
       "      <td>0</td>\n",
       "      <td>0</td>\n",
       "      <td>77</td>\n",
       "      <td>Yes</td>\n",
       "      <td>No</td>\n",
       "      <td>No</td>\n",
       "      <td>1</td>\n",
       "      <td>0</td>\n",
       "    </tr>\n",
       "  </tbody>\n",
       "</table>\n",
       "</div>"
      ],
      "text/plain": [
       "    EmployeeNo                               Division        Qualification  \\\n",
       "0  YAK/S/00001         Commercial Sales and Marketing     MSc, MBA and PhD   \n",
       "1  YAK/S/00002  Customer Support and Field Operations  First Degree or HND   \n",
       "2  YAK/S/00003         Commercial Sales and Marketing  First Degree or HND   \n",
       "3  YAK/S/00004         Commercial Sales and Marketing  First Degree or HND   \n",
       "4  YAK/S/00006               Information and Strategy  First Degree or HND   \n",
       "\n",
       "   Gender   Channel_of_Recruitment  Trainings_Attended  Year_of_birth  \\\n",
       "0  Female  Direct Internal process                   2           1986   \n",
       "1    Male        Agency and others                   2           1991   \n",
       "2    Male  Direct Internal process                   2           1987   \n",
       "3    Male        Agency and others                   3           1982   \n",
       "4    Male  Direct Internal process                   3           1990   \n",
       "\n",
       "   Last_performance_score  Year_of_recruitment  Targets_met  Previous_Award  \\\n",
       "0                   12.50                 2011            1               0   \n",
       "1                   12.50                 2015            0               0   \n",
       "2                    7.50                 2012            0               0   \n",
       "3                    2.50                 2009            0               0   \n",
       "4                    7.50                 2012            0               0   \n",
       "\n",
       "   Training_score_average Foreign_schooled Past_Disciplinary_Action  \\\n",
       "0                      41               No                       No   \n",
       "1                      52              Yes                       No   \n",
       "2                      42              Yes                       No   \n",
       "3                      42              Yes                       No   \n",
       "4                      77              Yes                       No   \n",
       "\n",
       "  Previous_IntraDepartmental_Movement No_of_previous_employers  \\\n",
       "0                                  No                        0   \n",
       "1                                  No                        0   \n",
       "2                                  No                        0   \n",
       "3                                  No                        1   \n",
       "4                                  No                        1   \n",
       "\n",
       "   Promoted_or_Not  \n",
       "0                0  \n",
       "1                0  \n",
       "2                0  \n",
       "3                0  \n",
       "4                0  "
      ]
     },
     "execution_count": 7,
     "metadata": {},
     "output_type": "execute_result"
    }
   ],
   "source": [
    "Staff = pd.read_csv('data.csv')\n",
    "Staff.head()"
   ]
  },
  {
   "cell_type": "code",
   "execution_count": 8,
   "metadata": {},
   "outputs": [
    {
     "data": {
      "text/html": [
       "<div>\n",
       "<style scoped>\n",
       "    .dataframe tbody tr th:only-of-type {\n",
       "        vertical-align: middle;\n",
       "    }\n",
       "\n",
       "    .dataframe tbody tr th {\n",
       "        vertical-align: top;\n",
       "    }\n",
       "\n",
       "    .dataframe thead th {\n",
       "        text-align: right;\n",
       "    }\n",
       "</style>\n",
       "<table border=\"1\" class=\"dataframe\">\n",
       "  <thead>\n",
       "    <tr style=\"text-align: right;\">\n",
       "      <th></th>\n",
       "      <th>EmployeeNo</th>\n",
       "      <th>Division</th>\n",
       "      <th>Qualification</th>\n",
       "      <th>Gender</th>\n",
       "      <th>Channel_of_Recruitment</th>\n",
       "      <th>Trainings_Attended</th>\n",
       "      <th>Year_of_birth</th>\n",
       "      <th>Last_performance_score</th>\n",
       "      <th>Year_of_recruitment</th>\n",
       "      <th>Targets_met</th>\n",
       "      <th>Previous_Award</th>\n",
       "      <th>Training_score_average</th>\n",
       "      <th>Foreign_schooled</th>\n",
       "      <th>Past_Disciplinary_Action</th>\n",
       "      <th>Previous_IntraDepartmental_Movement</th>\n",
       "      <th>No_of_previous_employers</th>\n",
       "      <th>Promoted_or_Not</th>\n",
       "    </tr>\n",
       "  </thead>\n",
       "  <tbody>\n",
       "    <tr>\n",
       "      <th>38307</th>\n",
       "      <td>YAK/S/54802</td>\n",
       "      <td>Information Technology and Solution Support</td>\n",
       "      <td>First Degree or HND</td>\n",
       "      <td>Female</td>\n",
       "      <td>Direct Internal process</td>\n",
       "      <td>2</td>\n",
       "      <td>1990</td>\n",
       "      <td>0.00</td>\n",
       "      <td>2018</td>\n",
       "      <td>0</td>\n",
       "      <td>0</td>\n",
       "      <td>70</td>\n",
       "      <td>Yes</td>\n",
       "      <td>No</td>\n",
       "      <td>No</td>\n",
       "      <td>0</td>\n",
       "      <td>0</td>\n",
       "    </tr>\n",
       "    <tr>\n",
       "      <th>38308</th>\n",
       "      <td>YAK/S/54805</td>\n",
       "      <td>Customer Support and Field Operations</td>\n",
       "      <td>MSc, MBA and PhD</td>\n",
       "      <td>Female</td>\n",
       "      <td>Agency and others</td>\n",
       "      <td>2</td>\n",
       "      <td>1984</td>\n",
       "      <td>5.00</td>\n",
       "      <td>2013</td>\n",
       "      <td>0</td>\n",
       "      <td>0</td>\n",
       "      <td>48</td>\n",
       "      <td>Yes</td>\n",
       "      <td>No</td>\n",
       "      <td>No</td>\n",
       "      <td>1</td>\n",
       "      <td>0</td>\n",
       "    </tr>\n",
       "    <tr>\n",
       "      <th>38309</th>\n",
       "      <td>YAK/S/54806</td>\n",
       "      <td>Information and Strategy</td>\n",
       "      <td>First Degree or HND</td>\n",
       "      <td>Male</td>\n",
       "      <td>Agency and others</td>\n",
       "      <td>2</td>\n",
       "      <td>1994</td>\n",
       "      <td>12.50</td>\n",
       "      <td>2016</td>\n",
       "      <td>1</td>\n",
       "      <td>0</td>\n",
       "      <td>71</td>\n",
       "      <td>No</td>\n",
       "      <td>No</td>\n",
       "      <td>No</td>\n",
       "      <td>3</td>\n",
       "      <td>0</td>\n",
       "    </tr>\n",
       "    <tr>\n",
       "      <th>38310</th>\n",
       "      <td>YAK/S/54807</td>\n",
       "      <td>Commercial Sales and Marketing</td>\n",
       "      <td>NaN</td>\n",
       "      <td>Male</td>\n",
       "      <td>Direct Internal process</td>\n",
       "      <td>2</td>\n",
       "      <td>1992</td>\n",
       "      <td>2.50</td>\n",
       "      <td>2017</td>\n",
       "      <td>0</td>\n",
       "      <td>0</td>\n",
       "      <td>37</td>\n",
       "      <td>Yes</td>\n",
       "      <td>No</td>\n",
       "      <td>No</td>\n",
       "      <td>1</td>\n",
       "      <td>0</td>\n",
       "    </tr>\n",
       "    <tr>\n",
       "      <th>38311</th>\n",
       "      <td>YAK/S/54808</td>\n",
       "      <td>People/HR Management</td>\n",
       "      <td>First Degree or HND</td>\n",
       "      <td>Male</td>\n",
       "      <td>Agency and others</td>\n",
       "      <td>2</td>\n",
       "      <td>1994</td>\n",
       "      <td>2.50</td>\n",
       "      <td>2014</td>\n",
       "      <td>0</td>\n",
       "      <td>0</td>\n",
       "      <td>41</td>\n",
       "      <td>Yes</td>\n",
       "      <td>No</td>\n",
       "      <td>No</td>\n",
       "      <td>2</td>\n",
       "      <td>0</td>\n",
       "    </tr>\n",
       "  </tbody>\n",
       "</table>\n",
       "</div>"
      ],
      "text/plain": [
       "        EmployeeNo                                     Division  \\\n",
       "38307  YAK/S/54802  Information Technology and Solution Support   \n",
       "38308  YAK/S/54805        Customer Support and Field Operations   \n",
       "38309  YAK/S/54806                     Information and Strategy   \n",
       "38310  YAK/S/54807               Commercial Sales and Marketing   \n",
       "38311  YAK/S/54808                         People/HR Management   \n",
       "\n",
       "             Qualification  Gender   Channel_of_Recruitment  \\\n",
       "38307  First Degree or HND  Female  Direct Internal process   \n",
       "38308     MSc, MBA and PhD  Female        Agency and others   \n",
       "38309  First Degree or HND    Male        Agency and others   \n",
       "38310                  NaN    Male  Direct Internal process   \n",
       "38311  First Degree or HND    Male        Agency and others   \n",
       "\n",
       "       Trainings_Attended  Year_of_birth  Last_performance_score  \\\n",
       "38307                   2           1990                    0.00   \n",
       "38308                   2           1984                    5.00   \n",
       "38309                   2           1994                   12.50   \n",
       "38310                   2           1992                    2.50   \n",
       "38311                   2           1994                    2.50   \n",
       "\n",
       "       Year_of_recruitment  Targets_met  Previous_Award  \\\n",
       "38307                 2018            0               0   \n",
       "38308                 2013            0               0   \n",
       "38309                 2016            1               0   \n",
       "38310                 2017            0               0   \n",
       "38311                 2014            0               0   \n",
       "\n",
       "       Training_score_average Foreign_schooled Past_Disciplinary_Action  \\\n",
       "38307                      70              Yes                       No   \n",
       "38308                      48              Yes                       No   \n",
       "38309                      71               No                       No   \n",
       "38310                      37              Yes                       No   \n",
       "38311                      41              Yes                       No   \n",
       "\n",
       "      Previous_IntraDepartmental_Movement No_of_previous_employers  \\\n",
       "38307                                  No                        0   \n",
       "38308                                  No                        1   \n",
       "38309                                  No                        3   \n",
       "38310                                  No                        1   \n",
       "38311                                  No                        2   \n",
       "\n",
       "       Promoted_or_Not  \n",
       "38307                0  \n",
       "38308                0  \n",
       "38309                0  \n",
       "38310                0  \n",
       "38311                0  "
      ]
     },
     "execution_count": 8,
     "metadata": {},
     "output_type": "execute_result"
    }
   ],
   "source": [
    "Staff.tail()"
   ]
  },
  {
   "cell_type": "code",
   "execution_count": 9,
   "metadata": {},
   "outputs": [
    {
     "data": {
      "text/plain": [
       "['EmployeeNo',\n",
       " 'Division',\n",
       " 'Qualification',\n",
       " 'Gender',\n",
       " 'Channel_of_Recruitment',\n",
       " 'Trainings_Attended',\n",
       " 'Year_of_birth',\n",
       " 'Last_performance_score',\n",
       " 'Year_of_recruitment',\n",
       " 'Targets_met',\n",
       " 'Previous_Award',\n",
       " 'Training_score_average',\n",
       " 'Foreign_schooled',\n",
       " 'Past_Disciplinary_Action',\n",
       " 'Previous_IntraDepartmental_Movement',\n",
       " 'No_of_previous_employers',\n",
       " 'Promoted_or_Not']"
      ]
     },
     "execution_count": 9,
     "metadata": {},
     "output_type": "execute_result"
    }
   ],
   "source": [
    "Staff.columns.values.tolist()"
   ]
  },
  {
   "cell_type": "code",
   "execution_count": 10,
   "metadata": {},
   "outputs": [
    {
     "name": "stdout",
     "output_type": "stream",
     "text": [
      "<class 'pandas.core.frame.DataFrame'>\n",
      "RangeIndex: 38312 entries, 0 to 38311\n",
      "Data columns (total 17 columns):\n",
      "EmployeeNo                             38312 non-null object\n",
      "Division                               38312 non-null object\n",
      "Qualification                          36633 non-null object\n",
      "Gender                                 38312 non-null object\n",
      "Channel_of_Recruitment                 38312 non-null object\n",
      "Trainings_Attended                     38312 non-null int64\n",
      "Year_of_birth                          38312 non-null int64\n",
      "Last_performance_score                 38312 non-null float64\n",
      "Year_of_recruitment                    38312 non-null int64\n",
      "Targets_met                            38312 non-null int64\n",
      "Previous_Award                         38312 non-null int64\n",
      "Training_score_average                 38312 non-null int64\n",
      "Foreign_schooled                       38312 non-null object\n",
      "Past_Disciplinary_Action               38312 non-null object\n",
      "Previous_IntraDepartmental_Movement    38312 non-null object\n",
      "No_of_previous_employers               38312 non-null object\n",
      "Promoted_or_Not                        38312 non-null int64\n",
      "dtypes: float64(1), int64(7), object(9)\n",
      "memory usage: 5.0+ MB\n"
     ]
    }
   ],
   "source": [
    "Staff.info()"
   ]
  },
  {
   "cell_type": "code",
   "execution_count": 11,
   "metadata": {},
   "outputs": [
    {
     "data": {
      "text/plain": [
       "(38312, 17)"
      ]
     },
     "execution_count": 11,
     "metadata": {},
     "output_type": "execute_result"
    }
   ],
   "source": [
    "Staff.shape"
   ]
  },
  {
   "cell_type": "code",
   "execution_count": 12,
   "metadata": {},
   "outputs": [
    {
     "data": {
      "text/html": [
       "<div>\n",
       "<style scoped>\n",
       "    .dataframe tbody tr th:only-of-type {\n",
       "        vertical-align: middle;\n",
       "    }\n",
       "\n",
       "    .dataframe tbody tr th {\n",
       "        vertical-align: top;\n",
       "    }\n",
       "\n",
       "    .dataframe thead th {\n",
       "        text-align: right;\n",
       "    }\n",
       "</style>\n",
       "<table border=\"1\" class=\"dataframe\">\n",
       "  <thead>\n",
       "    <tr style=\"text-align: right;\">\n",
       "      <th></th>\n",
       "      <th>count</th>\n",
       "      <th>mean</th>\n",
       "      <th>std</th>\n",
       "      <th>min</th>\n",
       "      <th>25%</th>\n",
       "      <th>50%</th>\n",
       "      <th>75%</th>\n",
       "      <th>max</th>\n",
       "    </tr>\n",
       "  </thead>\n",
       "  <tbody>\n",
       "    <tr>\n",
       "      <th>Trainings_Attended</th>\n",
       "      <td>38312.00</td>\n",
       "      <td>2.25</td>\n",
       "      <td>0.61</td>\n",
       "      <td>2.00</td>\n",
       "      <td>2.00</td>\n",
       "      <td>2.00</td>\n",
       "      <td>2.00</td>\n",
       "      <td>11.00</td>\n",
       "    </tr>\n",
       "    <tr>\n",
       "      <th>Year_of_birth</th>\n",
       "      <td>38312.00</td>\n",
       "      <td>1986.21</td>\n",
       "      <td>7.65</td>\n",
       "      <td>1950.00</td>\n",
       "      <td>1982.00</td>\n",
       "      <td>1988.00</td>\n",
       "      <td>1992.00</td>\n",
       "      <td>2001.00</td>\n",
       "    </tr>\n",
       "    <tr>\n",
       "      <th>Last_performance_score</th>\n",
       "      <td>38312.00</td>\n",
       "      <td>7.70</td>\n",
       "      <td>3.74</td>\n",
       "      <td>0.00</td>\n",
       "      <td>5.00</td>\n",
       "      <td>7.50</td>\n",
       "      <td>10.00</td>\n",
       "      <td>12.50</td>\n",
       "    </tr>\n",
       "    <tr>\n",
       "      <th>Year_of_recruitment</th>\n",
       "      <td>38312.00</td>\n",
       "      <td>2013.14</td>\n",
       "      <td>4.26</td>\n",
       "      <td>1982.00</td>\n",
       "      <td>2012.00</td>\n",
       "      <td>2014.00</td>\n",
       "      <td>2016.00</td>\n",
       "      <td>2018.00</td>\n",
       "    </tr>\n",
       "    <tr>\n",
       "      <th>Targets_met</th>\n",
       "      <td>38312.00</td>\n",
       "      <td>0.35</td>\n",
       "      <td>0.48</td>\n",
       "      <td>0.00</td>\n",
       "      <td>0.00</td>\n",
       "      <td>0.00</td>\n",
       "      <td>1.00</td>\n",
       "      <td>1.00</td>\n",
       "    </tr>\n",
       "    <tr>\n",
       "      <th>Previous_Award</th>\n",
       "      <td>38312.00</td>\n",
       "      <td>0.02</td>\n",
       "      <td>0.15</td>\n",
       "      <td>0.00</td>\n",
       "      <td>0.00</td>\n",
       "      <td>0.00</td>\n",
       "      <td>0.00</td>\n",
       "      <td>1.00</td>\n",
       "    </tr>\n",
       "    <tr>\n",
       "      <th>Training_score_average</th>\n",
       "      <td>38312.00</td>\n",
       "      <td>55.37</td>\n",
       "      <td>13.36</td>\n",
       "      <td>31.00</td>\n",
       "      <td>43.00</td>\n",
       "      <td>52.00</td>\n",
       "      <td>68.00</td>\n",
       "      <td>91.00</td>\n",
       "    </tr>\n",
       "    <tr>\n",
       "      <th>Promoted_or_Not</th>\n",
       "      <td>38312.00</td>\n",
       "      <td>0.08</td>\n",
       "      <td>0.28</td>\n",
       "      <td>0.00</td>\n",
       "      <td>0.00</td>\n",
       "      <td>0.00</td>\n",
       "      <td>0.00</td>\n",
       "      <td>1.00</td>\n",
       "    </tr>\n",
       "  </tbody>\n",
       "</table>\n",
       "</div>"
      ],
      "text/plain": [
       "                          count    mean   std     min     25%     50%     75%  \\\n",
       "Trainings_Attended     38312.00    2.25  0.61    2.00    2.00    2.00    2.00   \n",
       "Year_of_birth          38312.00 1986.21  7.65 1950.00 1982.00 1988.00 1992.00   \n",
       "Last_performance_score 38312.00    7.70  3.74    0.00    5.00    7.50   10.00   \n",
       "Year_of_recruitment    38312.00 2013.14  4.26 1982.00 2012.00 2014.00 2016.00   \n",
       "Targets_met            38312.00    0.35  0.48    0.00    0.00    0.00    1.00   \n",
       "Previous_Award         38312.00    0.02  0.15    0.00    0.00    0.00    0.00   \n",
       "Training_score_average 38312.00   55.37 13.36   31.00   43.00   52.00   68.00   \n",
       "Promoted_or_Not        38312.00    0.08  0.28    0.00    0.00    0.00    0.00   \n",
       "\n",
       "                           max  \n",
       "Trainings_Attended       11.00  \n",
       "Year_of_birth          2001.00  \n",
       "Last_performance_score   12.50  \n",
       "Year_of_recruitment    2018.00  \n",
       "Targets_met               1.00  \n",
       "Previous_Award            1.00  \n",
       "Training_score_average   91.00  \n",
       "Promoted_or_Not           1.00  "
      ]
     },
     "execution_count": 12,
     "metadata": {},
     "output_type": "execute_result"
    }
   ],
   "source": [
    "Staff.describe().transpose()"
   ]
  },
  {
   "cell_type": "code",
   "execution_count": 13,
   "metadata": {},
   "outputs": [],
   "source": [
    "Profile = pandas_profiling.ProfileReport(Staff)\n",
    "Profile.to_file(outputfile = 'Staff_Report.html')"
   ]
  },
  {
   "cell_type": "code",
   "execution_count": 14,
   "metadata": {},
   "outputs": [
    {
     "data": {
      "text/plain": [
       "<matplotlib.axes._subplots.AxesSubplot at 0x2411d03c7b8>"
      ]
     },
     "execution_count": 14,
     "metadata": {},
     "output_type": "execute_result"
    },
    {
     "data": {
      "image/png": "[encoded data removed]",
      "text/plain": [
       "<Figure size 800x550 with 1 Axes>"
      ]
     },
     "metadata": {},
     "output_type": "display_data"
    }
   ],
   "source": [
    "Staff['Gender'].value_counts().plot('bar')"
   ]
  },
  {
   "cell_type": "code",
   "execution_count": 15,
   "metadata": {},
   "outputs": [
    {
     "data": {
      "text/plain": [
       "<matplotlib.axes._subplots.AxesSubplot at 0x2411d0d7e10>"
      ]
     },
     "execution_count": 15,
     "metadata": {},
     "output_type": "execute_result"
    },
    {
     "data": {
      "image/png": "[encoded data removed]",
      "text/plain": [
       "<Figure size 800x550 with 1 Axes>"
      ]
     },
     "metadata": {},
     "output_type": "display_data"
    }
   ],
   "source": [
    "Staff['Division'].value_counts().plot('barh')"
   ]
  },
  {
   "cell_type": "code",
   "execution_count": 16,
   "metadata": {},
   "outputs": [
    {
     "data": {
      "text/plain": [
       "First Degree or HND         25578\n",
       "MSc, MBA and PhD            10469\n",
       "Non-University Education      586\n",
       "Name: Qualification, dtype: int64"
      ]
     },
     "execution_count": 16,
     "metadata": {},
     "output_type": "execute_result"
    }
   ],
   "source": [
    "Staff['Qualification'].value_counts()"
   ]
  },
  {
   "cell_type": "code",
   "execution_count": 17,
   "metadata": {},
   "outputs": [
    {
     "data": {
      "text/plain": [
       "<matplotlib.axes._subplots.AxesSubplot at 0x2411d15cba8>"
      ]
     },
     "execution_count": 17,
     "metadata": {},
     "output_type": "execute_result"
    },
    {
     "data": {
      "image/png": "[encoded data removed]",
      "text/plain": [
       "<Figure size 800x550 with 1 Axes>"
      ]
     },
     "metadata": {},
     "output_type": "display_data"
    }
   ],
   "source": [
    "Staff['Qualification'].value_counts().plot('barh')"
   ]
  },
  {
   "cell_type": "code",
   "execution_count": 18,
   "metadata": {},
   "outputs": [
    {
     "data": {
      "text/plain": [
       "0   91.54\n",
       "1    8.46\n",
       "Name: Promoted_or_Not, dtype: float64"
      ]
     },
     "execution_count": 18,
     "metadata": {},
     "output_type": "execute_result"
    }
   ],
   "source": [
    "# Percentage of 'Promoted_or_Not'\n",
    "Percent_Promote = Staff['Promoted_or_Not'].value_counts() / len(Staff)*100\n",
    "Percent_Promote"
   ]
  },
  {
   "cell_type": "code",
   "execution_count": 19,
   "metadata": {},
   "outputs": [
    {
     "data": {
      "text/plain": [
       "<matplotlib.axes._subplots.AxesSubplot at 0x2411d281e48>"
      ]
     },
     "execution_count": 19,
     "metadata": {},
     "output_type": "execute_result"
    },
    {
     "data": {
      "image/png": "[encoded data removed]",
      "text/plain": [
       "<Figure size 800x550 with 1 Axes>"
      ]
     },
     "metadata": {},
     "output_type": "display_data"
    }
   ],
   "source": [
    "Percent_Promote.plot('barh')"
   ]
  },
  {
   "cell_type": "code",
   "execution_count": 20,
   "metadata": {},
   "outputs": [
    {
     "data": {
      "image/png": "[encoded data removed]",
      "text/plain": [
       "<Figure size 2000x1500 with 9 Axes>"
      ]
     },
     "metadata": {},
     "output_type": "display_data"
    }
   ],
   "source": [
    "Staff.hist(bins = 30, figsize = (20, 15))\n",
    "\n",
    "plt.show()"
   ]
  },
  {
   "cell_type": "code",
   "execution_count": 29,
   "metadata": {},
   "outputs": [
    {
     "data": {
      "text/plain": [
       "['Trainings_Attended',\n",
       " 'Last_performance_score',\n",
       " 'Year_of_recruitment',\n",
       " 'Training_score_average']"
      ]
     },
     "execution_count": 29,
     "metadata": {},
     "output_type": "execute_result"
    }
   ],
   "source": [
    "Staff_Numeric_Var = Staff._get_numeric_data()\n",
    "Numeric_Data = Staff_Numeric_Var.columns.drop(['Promoted_or_Not', 'Year_of_birth', 'Targets_met', 'Previous_Award']).tolist()\n",
    "Numeric_Data"
   ]
  },
  {
   "cell_type": "code",
   "execution_count": 23,
   "metadata": {},
   "outputs": [
    {
     "data": {
      "text/html": [
       "<div>\n",
       "<style scoped>\n",
       "    .dataframe tbody tr th:only-of-type {\n",
       "        vertical-align: middle;\n",
       "    }\n",
       "\n",
       "    .dataframe tbody tr th {\n",
       "        vertical-align: top;\n",
       "    }\n",
       "\n",
       "    .dataframe thead th {\n",
       "        text-align: right;\n",
       "    }\n",
       "</style>\n",
       "<table border=\"1\" class=\"dataframe\">\n",
       "  <thead>\n",
       "    <tr style=\"text-align: right;\">\n",
       "      <th></th>\n",
       "      <th>Trainings_Attended</th>\n",
       "      <th>Year_of_birth</th>\n",
       "      <th>Last_performance_score</th>\n",
       "      <th>Year_of_recruitment</th>\n",
       "      <th>Targets_met</th>\n",
       "      <th>Previous_Award</th>\n",
       "      <th>Training_score_average</th>\n",
       "      <th>Promoted_or_Not</th>\n",
       "    </tr>\n",
       "  </thead>\n",
       "  <tbody>\n",
       "    <tr>\n",
       "      <th>Trainings_Attended</th>\n",
       "      <td>1.00</td>\n",
       "      <td>0.08</td>\n",
       "      <td>-0.06</td>\n",
       "      <td>0.06</td>\n",
       "      <td>-0.04</td>\n",
       "      <td>-0.01</td>\n",
       "      <td>0.04</td>\n",
       "      <td>-0.02</td>\n",
       "    </tr>\n",
       "    <tr>\n",
       "      <th>Year_of_birth</th>\n",
       "      <td>0.08</td>\n",
       "      <td>1.00</td>\n",
       "      <td>-0.18</td>\n",
       "      <td>0.65</td>\n",
       "      <td>0.03</td>\n",
       "      <td>0.01</td>\n",
       "      <td>0.05</td>\n",
       "      <td>0.02</td>\n",
       "    </tr>\n",
       "    <tr>\n",
       "      <th>Last_performance_score</th>\n",
       "      <td>-0.06</td>\n",
       "      <td>-0.18</td>\n",
       "      <td>1.00</td>\n",
       "      <td>-0.19</td>\n",
       "      <td>0.28</td>\n",
       "      <td>0.03</td>\n",
       "      <td>0.06</td>\n",
       "      <td>0.12</td>\n",
       "    </tr>\n",
       "    <tr>\n",
       "      <th>Year_of_recruitment</th>\n",
       "      <td>0.06</td>\n",
       "      <td>0.65</td>\n",
       "      <td>-0.19</td>\n",
       "      <td>1.00</td>\n",
       "      <td>0.08</td>\n",
       "      <td>0.04</td>\n",
       "      <td>0.04</td>\n",
       "      <td>0.01</td>\n",
       "    </tr>\n",
       "    <tr>\n",
       "      <th>Targets_met</th>\n",
       "      <td>-0.04</td>\n",
       "      <td>0.03</td>\n",
       "      <td>0.28</td>\n",
       "      <td>0.08</td>\n",
       "      <td>1.00</td>\n",
       "      <td>0.09</td>\n",
       "      <td>0.08</td>\n",
       "      <td>0.22</td>\n",
       "    </tr>\n",
       "    <tr>\n",
       "      <th>Previous_Award</th>\n",
       "      <td>-0.01</td>\n",
       "      <td>0.01</td>\n",
       "      <td>0.03</td>\n",
       "      <td>0.04</td>\n",
       "      <td>0.09</td>\n",
       "      <td>1.00</td>\n",
       "      <td>0.07</td>\n",
       "      <td>0.20</td>\n",
       "    </tr>\n",
       "    <tr>\n",
       "      <th>Training_score_average</th>\n",
       "      <td>0.04</td>\n",
       "      <td>0.05</td>\n",
       "      <td>0.06</td>\n",
       "      <td>0.04</td>\n",
       "      <td>0.08</td>\n",
       "      <td>0.07</td>\n",
       "      <td>1.00</td>\n",
       "      <td>0.18</td>\n",
       "    </tr>\n",
       "    <tr>\n",
       "      <th>Promoted_or_Not</th>\n",
       "      <td>-0.02</td>\n",
       "      <td>0.02</td>\n",
       "      <td>0.12</td>\n",
       "      <td>0.01</td>\n",
       "      <td>0.22</td>\n",
       "      <td>0.20</td>\n",
       "      <td>0.18</td>\n",
       "      <td>1.00</td>\n",
       "    </tr>\n",
       "  </tbody>\n",
       "</table>\n",
       "</div>"
      ],
      "text/plain": [
       "                        Trainings_Attended  Year_of_birth  \\\n",
       "Trainings_Attended                    1.00           0.08   \n",
       "Year_of_birth                         0.08           1.00   \n",
       "Last_performance_score               -0.06          -0.18   \n",
       "Year_of_recruitment                   0.06           0.65   \n",
       "Targets_met                          -0.04           0.03   \n",
       "Previous_Award                       -0.01           0.01   \n",
       "Training_score_average                0.04           0.05   \n",
       "Promoted_or_Not                      -0.02           0.02   \n",
       "\n",
       "                        Last_performance_score  Year_of_recruitment  \\\n",
       "Trainings_Attended                       -0.06                 0.06   \n",
       "Year_of_birth                            -0.18                 0.65   \n",
       "Last_performance_score                    1.00                -0.19   \n",
       "Year_of_recruitment                      -0.19                 1.00   \n",
       "Targets_met                               0.28                 0.08   \n",
       "Previous_Award                            0.03                 0.04   \n",
       "Training_score_average                    0.06                 0.04   \n",
       "Promoted_or_Not                           0.12                 0.01   \n",
       "\n",
       "                        Targets_met  Previous_Award  Training_score_average  \\\n",
       "Trainings_Attended            -0.04           -0.01                    0.04   \n",
       "Year_of_birth                  0.03            0.01                    0.05   \n",
       "Last_performance_score         0.28            0.03                    0.06   \n",
       "Year_of_recruitment            0.08            0.04                    0.04   \n",
       "Targets_met                    1.00            0.09                    0.08   \n",
       "Previous_Award                 0.09            1.00                    0.07   \n",
       "Training_score_average         0.08            0.07                    1.00   \n",
       "Promoted_or_Not                0.22            0.20                    0.18   \n",
       "\n",
       "                        Promoted_or_Not  \n",
       "Trainings_Attended                -0.02  \n",
       "Year_of_birth                      0.02  \n",
       "Last_performance_score             0.12  \n",
       "Year_of_recruitment                0.01  \n",
       "Targets_met                        0.22  \n",
       "Previous_Award                     0.20  \n",
       "Training_score_average             0.18  \n",
       "Promoted_or_Not                    1.00  "
      ]
     },
     "execution_count": 23,
     "metadata": {},
     "output_type": "execute_result"
    }
   ],
   "source": [
    "Staff.corr()"
   ]
  },
  {
   "cell_type": "code",
   "execution_count": 24,
   "metadata": {},
   "outputs": [
    {
     "data": {
      "text/plain": [
       "<matplotlib.axes._subplots.AxesSubplot at 0x2411f00c6a0>"
      ]
     },
     "execution_count": 24,
     "metadata": {},
     "output_type": "execute_result"
    },
    {
     "data": {
      "image/png": "[encoded data removed]",
      "text/plain": [
       "<Figure size 800x550 with 2 Axes>"
      ]
     },
     "metadata": {},
     "output_type": "display_data"
    }
   ],
   "source": [
    "sns.heatmap(Staff.corr(), annot = True, fmt = '.1g', vmin = -1, vmax = 1, center = 0, cmap = sns.diverging_palette(20, 500, as_cmap = True))"
   ]
  },
  {
   "cell_type": "code",
   "execution_count": 25,
   "metadata": {},
   "outputs": [
    {
     "data": {
      "text/plain": [
       "<matplotlib.axes._subplots.AxesSubplot at 0x2411cf4fda0>"
      ]
     },
     "execution_count": 25,
     "metadata": {},
     "output_type": "execute_result"
    },
    {
     "data": {
      "image/png": "[encoded data removed]",
      "text/plain": [
       "<Figure size 800x550 with 1 Axes>"
      ]
     },
     "metadata": {},
     "output_type": "display_data"
    }
   ],
   "source": [
    "Staff.Year_of_recruitment.plot.kde()\n",
    "Staff.Year_of_recruitment.hist(density=True)"
   ]
  },
  {
   "cell_type": "code",
   "execution_count": 26,
   "metadata": {},
   "outputs": [
    {
     "data": {
      "text/plain": [
       "<matplotlib.axes._subplots.AxesSubplot at 0x2411d0445c0>"
      ]
     },
     "execution_count": 26,
     "metadata": {},
     "output_type": "execute_result"
    },
    {
     "data": {
      "image/png": "[encoded data removed]",
      "text/plain": [
       "<Figure size 800x550 with 1 Axes>"
      ]
     },
     "metadata": {},
     "output_type": "display_data"
    }
   ],
   "source": [
    "Staff.Year_of_birth.plot.kde()\n",
    "Staff.Year_of_birth.hist(density=True)"
   ]
  },
  {
   "cell_type": "code",
   "execution_count": 27,
   "metadata": {},
   "outputs": [
    {
     "data": {
      "text/plain": [
       "<matplotlib.axes._subplots.AxesSubplot at 0x2411e1640b8>"
      ]
     },
     "execution_count": 27,
     "metadata": {},
     "output_type": "execute_result"
    },
    {
     "data": {
      "image/png": "[encoded data removed]",
      "text/plain": [
       "<Figure size 800x550 with 1 Axes>"
      ]
     },
     "metadata": {},
     "output_type": "display_data"
    }
   ],
   "source": [
    "Staff[['Year_of_birth', 'Year_of_recruitment']].plot.kde(bw_method=0.1)"
   ]
  },
  {
   "cell_type": "code",
   "execution_count": 31,
   "metadata": {},
   "outputs": [
    {
     "data": {
      "text/plain": [
       "<matplotlib.axes._subplots.AxesSubplot at 0x2411e34f7f0>"
      ]
     },
     "execution_count": 31,
     "metadata": {},
     "output_type": "execute_result"
    },
    {
     "data": {
      "image/png": "[encoded data removed]",
      "text/plain": [
       "<Figure size 800x550 with 1 Axes>"
      ]
     },
     "metadata": {},
     "output_type": "display_data"
    }
   ],
   "source": [
    "Staff_Numeric_Var.boxplot(column=['Trainings_Attended', 'Training_score_average'])"
   ]
  },
  {
   "cell_type": "code",
   "execution_count": 32,
   "metadata": {},
   "outputs": [
    {
     "data": {
      "text/plain": [
       "<matplotlib.axes._subplots.AxesSubplot at 0x2411e1ee908>"
      ]
     },
     "execution_count": 32,
     "metadata": {},
     "output_type": "execute_result"
    },
    {
     "data": {
      "image/png": "[encoded data removed]",
      "text/plain": [
       "<Figure size 800x550 with 1 Axes>"
      ]
     },
     "metadata": {},
     "output_type": "display_data"
    }
   ],
   "source": [
    "Staff.boxplot(column=['Last_performance_score', 'Training_score_average'])"
   ]
  },
  {
   "cell_type": "markdown",
   "metadata": {},
   "source": [
    "## Missing Values"
   ]
  },
  {
   "cell_type": "code",
   "execution_count": 33,
   "metadata": {},
   "outputs": [
    {
     "data": {
      "text/plain": [
       "EmployeeNo                                0\n",
       "Division                                  0\n",
       "Qualification                          1679\n",
       "Gender                                    0\n",
       "Channel_of_Recruitment                    0\n",
       "Trainings_Attended                        0\n",
       "Year_of_birth                             0\n",
       "Last_performance_score                    0\n",
       "Year_of_recruitment                       0\n",
       "Targets_met                               0\n",
       "Previous_Award                            0\n",
       "Training_score_average                    0\n",
       "Foreign_schooled                          0\n",
       "Past_Disciplinary_Action                  0\n",
       "Previous_IntraDepartmental_Movement       0\n",
       "No_of_previous_employers                  0\n",
       "Promoted_or_Not                           0\n",
       "dtype: int64"
      ]
     },
     "execution_count": 33,
     "metadata": {},
     "output_type": "execute_result"
    }
   ],
   "source": [
    "Staff.isnull().sum()"
   ]
  },
  {
   "cell_type": "code",
   "execution_count": null,
   "metadata": {},
   "outputs": [],
   "source": [
    "#Staff['Qualification'].fillna.mode()\n",
    "\n",
    "#df = df.fillna(df.mode().iloc[0])\n",
    "\n",
    "#df = df.apply(lambda x:x.fillna(x.value_counts().index[0]))"
   ]
  },
  {
   "cell_type": "code",
   "execution_count": 34,
   "metadata": {},
   "outputs": [
    {
     "data": {
      "text/html": [
       "<div>\n",
       "<style scoped>\n",
       "    .dataframe tbody tr th:only-of-type {\n",
       "        vertical-align: middle;\n",
       "    }\n",
       "\n",
       "    .dataframe tbody tr th {\n",
       "        vertical-align: top;\n",
       "    }\n",
       "\n",
       "    .dataframe thead th {\n",
       "        text-align: right;\n",
       "    }\n",
       "</style>\n",
       "<table border=\"1\" class=\"dataframe\">\n",
       "  <thead>\n",
       "    <tr style=\"text-align: right;\">\n",
       "      <th></th>\n",
       "      <th>EmployeeNo</th>\n",
       "      <th>Division</th>\n",
       "      <th>Qualification</th>\n",
       "      <th>Gender</th>\n",
       "      <th>Channel_of_Recruitment</th>\n",
       "      <th>Trainings_Attended</th>\n",
       "      <th>Year_of_birth</th>\n",
       "      <th>Last_performance_score</th>\n",
       "      <th>Year_of_recruitment</th>\n",
       "      <th>Targets_met</th>\n",
       "      <th>Previous_Award</th>\n",
       "      <th>Training_score_average</th>\n",
       "      <th>Foreign_schooled</th>\n",
       "      <th>Past_Disciplinary_Action</th>\n",
       "      <th>Previous_IntraDepartmental_Movement</th>\n",
       "      <th>No_of_previous_employers</th>\n",
       "      <th>Promoted_or_Not</th>\n",
       "    </tr>\n",
       "  </thead>\n",
       "  <tbody>\n",
       "    <tr>\n",
       "      <th>0</th>\n",
       "      <td>YAK/S/00001</td>\n",
       "      <td>Commercial Sales and Marketing</td>\n",
       "      <td>MSc, MBA and PhD</td>\n",
       "      <td>Female</td>\n",
       "      <td>Direct Internal process</td>\n",
       "      <td>2</td>\n",
       "      <td>1986</td>\n",
       "      <td>12.50</td>\n",
       "      <td>2011</td>\n",
       "      <td>1</td>\n",
       "      <td>0</td>\n",
       "      <td>41</td>\n",
       "      <td>No</td>\n",
       "      <td>No</td>\n",
       "      <td>No</td>\n",
       "      <td>0</td>\n",
       "      <td>0</td>\n",
       "    </tr>\n",
       "    <tr>\n",
       "      <th>1</th>\n",
       "      <td>YAK/S/00002</td>\n",
       "      <td>Customer Support and Field Operations</td>\n",
       "      <td>First Degree or HND</td>\n",
       "      <td>Male</td>\n",
       "      <td>Agency and others</td>\n",
       "      <td>2</td>\n",
       "      <td>1991</td>\n",
       "      <td>12.50</td>\n",
       "      <td>2015</td>\n",
       "      <td>0</td>\n",
       "      <td>0</td>\n",
       "      <td>52</td>\n",
       "      <td>Yes</td>\n",
       "      <td>No</td>\n",
       "      <td>No</td>\n",
       "      <td>0</td>\n",
       "      <td>0</td>\n",
       "    </tr>\n",
       "    <tr>\n",
       "      <th>2</th>\n",
       "      <td>YAK/S/00003</td>\n",
       "      <td>Commercial Sales and Marketing</td>\n",
       "      <td>First Degree or HND</td>\n",
       "      <td>Male</td>\n",
       "      <td>Direct Internal process</td>\n",
       "      <td>2</td>\n",
       "      <td>1987</td>\n",
       "      <td>7.50</td>\n",
       "      <td>2012</td>\n",
       "      <td>0</td>\n",
       "      <td>0</td>\n",
       "      <td>42</td>\n",
       "      <td>Yes</td>\n",
       "      <td>No</td>\n",
       "      <td>No</td>\n",
       "      <td>0</td>\n",
       "      <td>0</td>\n",
       "    </tr>\n",
       "    <tr>\n",
       "      <th>3</th>\n",
       "      <td>YAK/S/00004</td>\n",
       "      <td>Commercial Sales and Marketing</td>\n",
       "      <td>First Degree or HND</td>\n",
       "      <td>Male</td>\n",
       "      <td>Agency and others</td>\n",
       "      <td>3</td>\n",
       "      <td>1982</td>\n",
       "      <td>2.50</td>\n",
       "      <td>2009</td>\n",
       "      <td>0</td>\n",
       "      <td>0</td>\n",
       "      <td>42</td>\n",
       "      <td>Yes</td>\n",
       "      <td>No</td>\n",
       "      <td>No</td>\n",
       "      <td>1</td>\n",
       "      <td>0</td>\n",
       "    </tr>\n",
       "    <tr>\n",
       "      <th>4</th>\n",
       "      <td>YAK/S/00006</td>\n",
       "      <td>Information and Strategy</td>\n",
       "      <td>First Degree or HND</td>\n",
       "      <td>Male</td>\n",
       "      <td>Direct Internal process</td>\n",
       "      <td>3</td>\n",
       "      <td>1990</td>\n",
       "      <td>7.50</td>\n",
       "      <td>2012</td>\n",
       "      <td>0</td>\n",
       "      <td>0</td>\n",
       "      <td>77</td>\n",
       "      <td>Yes</td>\n",
       "      <td>No</td>\n",
       "      <td>No</td>\n",
       "      <td>1</td>\n",
       "      <td>0</td>\n",
       "    </tr>\n",
       "  </tbody>\n",
       "</table>\n",
       "</div>"
      ],
      "text/plain": [
       "    EmployeeNo                               Division        Qualification  \\\n",
       "0  YAK/S/00001         Commercial Sales and Marketing     MSc, MBA and PhD   \n",
       "1  YAK/S/00002  Customer Support and Field Operations  First Degree or HND   \n",
       "2  YAK/S/00003         Commercial Sales and Marketing  First Degree or HND   \n",
       "3  YAK/S/00004         Commercial Sales and Marketing  First Degree or HND   \n",
       "4  YAK/S/00006               Information and Strategy  First Degree or HND   \n",
       "\n",
       "   Gender   Channel_of_Recruitment  Trainings_Attended  Year_of_birth  \\\n",
       "0  Female  Direct Internal process                   2           1986   \n",
       "1    Male        Agency and others                   2           1991   \n",
       "2    Male  Direct Internal process                   2           1987   \n",
       "3    Male        Agency and others                   3           1982   \n",
       "4    Male  Direct Internal process                   3           1990   \n",
       "\n",
       "   Last_performance_score  Year_of_recruitment  Targets_met  Previous_Award  \\\n",
       "0                   12.50                 2011            1               0   \n",
       "1                   12.50                 2015            0               0   \n",
       "2                    7.50                 2012            0               0   \n",
       "3                    2.50                 2009            0               0   \n",
       "4                    7.50                 2012            0               0   \n",
       "\n",
       "   Training_score_average Foreign_schooled Past_Disciplinary_Action  \\\n",
       "0                      41               No                       No   \n",
       "1                      52              Yes                       No   \n",
       "2                      42              Yes                       No   \n",
       "3                      42              Yes                       No   \n",
       "4                      77              Yes                       No   \n",
       "\n",
       "  Previous_IntraDepartmental_Movement No_of_previous_employers  \\\n",
       "0                                  No                        0   \n",
       "1                                  No                        0   \n",
       "2                                  No                        0   \n",
       "3                                  No                        1   \n",
       "4                                  No                        1   \n",
       "\n",
       "   Promoted_or_Not  \n",
       "0                0  \n",
       "1                0  \n",
       "2                0  \n",
       "3                0  \n",
       "4                0  "
      ]
     },
     "execution_count": 34,
     "metadata": {},
     "output_type": "execute_result"
    }
   ],
   "source": [
    "#Staff.fillna(Staff['Qualification'].mode(), inplace=True)\n",
    "#Staff.tail()\n",
    "\n",
    "Staff = Staff.fillna(Staff['Qualification'].value_counts().index[0])\n",
    "Staff.head()"
   ]
  },
  {
   "cell_type": "code",
   "execution_count": 35,
   "metadata": {},
   "outputs": [
    {
     "data": {
      "text/plain": [
       "EmployeeNo                             0\n",
       "Division                               0\n",
       "Qualification                          0\n",
       "Gender                                 0\n",
       "Channel_of_Recruitment                 0\n",
       "Trainings_Attended                     0\n",
       "Year_of_birth                          0\n",
       "Last_performance_score                 0\n",
       "Year_of_recruitment                    0\n",
       "Targets_met                            0\n",
       "Previous_Award                         0\n",
       "Training_score_average                 0\n",
       "Foreign_schooled                       0\n",
       "Past_Disciplinary_Action               0\n",
       "Previous_IntraDepartmental_Movement    0\n",
       "No_of_previous_employers               0\n",
       "Promoted_or_Not                        0\n",
       "dtype: int64"
      ]
     },
     "execution_count": 35,
     "metadata": {},
     "output_type": "execute_result"
    }
   ],
   "source": [
    "Staff.isnull().sum()"
   ]
  },
  {
   "cell_type": "markdown",
   "metadata": {},
   "source": [
    "## Feature Engineering and Encoding"
   ]
  },
  {
   "cell_type": "markdown",
   "metadata": {},
   "source": [
    "### Gender Mapping"
   ]
  },
  {
   "cell_type": "code",
   "execution_count": null,
   "metadata": {},
   "outputs": [],
   "source": []
  },
  {
   "cell_type": "code",
   "execution_count": 36,
   "metadata": {},
   "outputs": [
    {
     "data": {
      "text/html": [
       "<div>\n",
       "<style scoped>\n",
       "    .dataframe tbody tr th:only-of-type {\n",
       "        vertical-align: middle;\n",
       "    }\n",
       "\n",
       "    .dataframe tbody tr th {\n",
       "        vertical-align: top;\n",
       "    }\n",
       "\n",
       "    .dataframe thead th {\n",
       "        text-align: right;\n",
       "    }\n",
       "</style>\n",
       "<table border=\"1\" class=\"dataframe\">\n",
       "  <thead>\n",
       "    <tr style=\"text-align: right;\">\n",
       "      <th></th>\n",
       "      <th>EmployeeNo</th>\n",
       "      <th>Division</th>\n",
       "      <th>Qualification</th>\n",
       "      <th>Gender</th>\n",
       "      <th>Channel_of_Recruitment</th>\n",
       "      <th>Trainings_Attended</th>\n",
       "      <th>Year_of_birth</th>\n",
       "      <th>Last_performance_score</th>\n",
       "      <th>Year_of_recruitment</th>\n",
       "      <th>Targets_met</th>\n",
       "      <th>Previous_Award</th>\n",
       "      <th>Training_score_average</th>\n",
       "      <th>Foreign_schooled</th>\n",
       "      <th>Past_Disciplinary_Action</th>\n",
       "      <th>Previous_IntraDepartmental_Movement</th>\n",
       "      <th>No_of_previous_employers</th>\n",
       "      <th>Promoted_or_Not</th>\n",
       "    </tr>\n",
       "  </thead>\n",
       "  <tbody>\n",
       "    <tr>\n",
       "      <th>38307</th>\n",
       "      <td>YAK/S/54802</td>\n",
       "      <td>Information Technology and Solution Support</td>\n",
       "      <td>First Degree or HND</td>\n",
       "      <td>0</td>\n",
       "      <td>Direct Internal process</td>\n",
       "      <td>2</td>\n",
       "      <td>1990</td>\n",
       "      <td>0.00</td>\n",
       "      <td>2018</td>\n",
       "      <td>0</td>\n",
       "      <td>0</td>\n",
       "      <td>70</td>\n",
       "      <td>Yes</td>\n",
       "      <td>No</td>\n",
       "      <td>No</td>\n",
       "      <td>0</td>\n",
       "      <td>0</td>\n",
       "    </tr>\n",
       "    <tr>\n",
       "      <th>38308</th>\n",
       "      <td>YAK/S/54805</td>\n",
       "      <td>Customer Support and Field Operations</td>\n",
       "      <td>MSc, MBA and PhD</td>\n",
       "      <td>0</td>\n",
       "      <td>Agency and others</td>\n",
       "      <td>2</td>\n",
       "      <td>1984</td>\n",
       "      <td>5.00</td>\n",
       "      <td>2013</td>\n",
       "      <td>0</td>\n",
       "      <td>0</td>\n",
       "      <td>48</td>\n",
       "      <td>Yes</td>\n",
       "      <td>No</td>\n",
       "      <td>No</td>\n",
       "      <td>1</td>\n",
       "      <td>0</td>\n",
       "    </tr>\n",
       "    <tr>\n",
       "      <th>38309</th>\n",
       "      <td>YAK/S/54806</td>\n",
       "      <td>Information and Strategy</td>\n",
       "      <td>First Degree or HND</td>\n",
       "      <td>1</td>\n",
       "      <td>Agency and others</td>\n",
       "      <td>2</td>\n",
       "      <td>1994</td>\n",
       "      <td>12.50</td>\n",
       "      <td>2016</td>\n",
       "      <td>1</td>\n",
       "      <td>0</td>\n",
       "      <td>71</td>\n",
       "      <td>No</td>\n",
       "      <td>No</td>\n",
       "      <td>No</td>\n",
       "      <td>3</td>\n",
       "      <td>0</td>\n",
       "    </tr>\n",
       "    <tr>\n",
       "      <th>38310</th>\n",
       "      <td>YAK/S/54807</td>\n",
       "      <td>Commercial Sales and Marketing</td>\n",
       "      <td>First Degree or HND</td>\n",
       "      <td>1</td>\n",
       "      <td>Direct Internal process</td>\n",
       "      <td>2</td>\n",
       "      <td>1992</td>\n",
       "      <td>2.50</td>\n",
       "      <td>2017</td>\n",
       "      <td>0</td>\n",
       "      <td>0</td>\n",
       "      <td>37</td>\n",
       "      <td>Yes</td>\n",
       "      <td>No</td>\n",
       "      <td>No</td>\n",
       "      <td>1</td>\n",
       "      <td>0</td>\n",
       "    </tr>\n",
       "    <tr>\n",
       "      <th>38311</th>\n",
       "      <td>YAK/S/54808</td>\n",
       "      <td>People/HR Management</td>\n",
       "      <td>First Degree or HND</td>\n",
       "      <td>1</td>\n",
       "      <td>Agency and others</td>\n",
       "      <td>2</td>\n",
       "      <td>1994</td>\n",
       "      <td>2.50</td>\n",
       "      <td>2014</td>\n",
       "      <td>0</td>\n",
       "      <td>0</td>\n",
       "      <td>41</td>\n",
       "      <td>Yes</td>\n",
       "      <td>No</td>\n",
       "      <td>No</td>\n",
       "      <td>2</td>\n",
       "      <td>0</td>\n",
       "    </tr>\n",
       "  </tbody>\n",
       "</table>\n",
       "</div>"
      ],
      "text/plain": [
       "        EmployeeNo                                     Division  \\\n",
       "38307  YAK/S/54802  Information Technology and Solution Support   \n",
       "38308  YAK/S/54805        Customer Support and Field Operations   \n",
       "38309  YAK/S/54806                     Information and Strategy   \n",
       "38310  YAK/S/54807               Commercial Sales and Marketing   \n",
       "38311  YAK/S/54808                         People/HR Management   \n",
       "\n",
       "             Qualification  Gender   Channel_of_Recruitment  \\\n",
       "38307  First Degree or HND       0  Direct Internal process   \n",
       "38308     MSc, MBA and PhD       0        Agency and others   \n",
       "38309  First Degree or HND       1        Agency and others   \n",
       "38310  First Degree or HND       1  Direct Internal process   \n",
       "38311  First Degree or HND       1        Agency and others   \n",
       "\n",
       "       Trainings_Attended  Year_of_birth  Last_performance_score  \\\n",
       "38307                   2           1990                    0.00   \n",
       "38308                   2           1984                    5.00   \n",
       "38309                   2           1994                   12.50   \n",
       "38310                   2           1992                    2.50   \n",
       "38311                   2           1994                    2.50   \n",
       "\n",
       "       Year_of_recruitment  Targets_met  Previous_Award  \\\n",
       "38307                 2018            0               0   \n",
       "38308                 2013            0               0   \n",
       "38309                 2016            1               0   \n",
       "38310                 2017            0               0   \n",
       "38311                 2014            0               0   \n",
       "\n",
       "       Training_score_average Foreign_schooled Past_Disciplinary_Action  \\\n",
       "38307                      70              Yes                       No   \n",
       "38308                      48              Yes                       No   \n",
       "38309                      71               No                       No   \n",
       "38310                      37              Yes                       No   \n",
       "38311                      41              Yes                       No   \n",
       "\n",
       "      Previous_IntraDepartmental_Movement No_of_previous_employers  \\\n",
       "38307                                  No                        0   \n",
       "38308                                  No                        1   \n",
       "38309                                  No                        3   \n",
       "38310                                  No                        1   \n",
       "38311                                  No                        2   \n",
       "\n",
       "       Promoted_or_Not  \n",
       "38307                0  \n",
       "38308                0  \n",
       "38309                0  \n",
       "38310                0  \n",
       "38311                0  "
      ]
     },
     "execution_count": 36,
     "metadata": {},
     "output_type": "execute_result"
    }
   ],
   "source": [
    "gender_mapping = ({'Female': 0, 'Male': 1})\n",
    "Staff['Gender'] = Staff['Gender'].map(gender_mapping)\n",
    "Staff.tail()"
   ]
  },
  {
   "cell_type": "markdown",
   "metadata": {},
   "source": [
    "#### Creating New Features: Age, Duration_of_Employment (YEARS) and Employment_Age "
   ]
  },
  {
   "cell_type": "code",
   "execution_count": 37,
   "metadata": {},
   "outputs": [
    {
     "data": {
      "text/html": [
       "<div>\n",
       "<style scoped>\n",
       "    .dataframe tbody tr th:only-of-type {\n",
       "        vertical-align: middle;\n",
       "    }\n",
       "\n",
       "    .dataframe tbody tr th {\n",
       "        vertical-align: top;\n",
       "    }\n",
       "\n",
       "    .dataframe thead th {\n",
       "        text-align: right;\n",
       "    }\n",
       "</style>\n",
       "<table border=\"1\" class=\"dataframe\">\n",
       "  <thead>\n",
       "    <tr style=\"text-align: right;\">\n",
       "      <th></th>\n",
       "      <th>EmployeeNo</th>\n",
       "      <th>Division</th>\n",
       "      <th>Qualification</th>\n",
       "      <th>Gender</th>\n",
       "      <th>Channel_of_Recruitment</th>\n",
       "      <th>Trainings_Attended</th>\n",
       "      <th>Year_of_birth</th>\n",
       "      <th>Last_performance_score</th>\n",
       "      <th>Year_of_recruitment</th>\n",
       "      <th>Targets_met</th>\n",
       "      <th>Previous_Award</th>\n",
       "      <th>Training_score_average</th>\n",
       "      <th>Foreign_schooled</th>\n",
       "      <th>Past_Disciplinary_Action</th>\n",
       "      <th>Previous_IntraDepartmental_Movement</th>\n",
       "      <th>No_of_previous_employers</th>\n",
       "      <th>Promoted_or_Not</th>\n",
       "      <th>Age</th>\n",
       "      <th>Duration_of_Employment (YEARS)</th>\n",
       "      <th>Employment_Age</th>\n",
       "    </tr>\n",
       "  </thead>\n",
       "  <tbody>\n",
       "    <tr>\n",
       "      <th>38307</th>\n",
       "      <td>YAK/S/54802</td>\n",
       "      <td>Information Technology and Solution Support</td>\n",
       "      <td>First Degree or HND</td>\n",
       "      <td>0</td>\n",
       "      <td>Direct Internal process</td>\n",
       "      <td>2</td>\n",
       "      <td>1990</td>\n",
       "      <td>0.00</td>\n",
       "      <td>2018</td>\n",
       "      <td>0</td>\n",
       "      <td>0</td>\n",
       "      <td>70</td>\n",
       "      <td>Yes</td>\n",
       "      <td>No</td>\n",
       "      <td>No</td>\n",
       "      <td>0</td>\n",
       "      <td>0</td>\n",
       "      <td>29</td>\n",
       "      <td>1</td>\n",
       "      <td>28</td>\n",
       "    </tr>\n",
       "    <tr>\n",
       "      <th>38308</th>\n",
       "      <td>YAK/S/54805</td>\n",
       "      <td>Customer Support and Field Operations</td>\n",
       "      <td>MSc, MBA and PhD</td>\n",
       "      <td>0</td>\n",
       "      <td>Agency and others</td>\n",
       "      <td>2</td>\n",
       "      <td>1984</td>\n",
       "      <td>5.00</td>\n",
       "      <td>2013</td>\n",
       "      <td>0</td>\n",
       "      <td>0</td>\n",
       "      <td>48</td>\n",
       "      <td>Yes</td>\n",
       "      <td>No</td>\n",
       "      <td>No</td>\n",
       "      <td>1</td>\n",
       "      <td>0</td>\n",
       "      <td>35</td>\n",
       "      <td>6</td>\n",
       "      <td>29</td>\n",
       "    </tr>\n",
       "    <tr>\n",
       "      <th>38309</th>\n",
       "      <td>YAK/S/54806</td>\n",
       "      <td>Information and Strategy</td>\n",
       "      <td>First Degree or HND</td>\n",
       "      <td>1</td>\n",
       "      <td>Agency and others</td>\n",
       "      <td>2</td>\n",
       "      <td>1994</td>\n",
       "      <td>12.50</td>\n",
       "      <td>2016</td>\n",
       "      <td>1</td>\n",
       "      <td>0</td>\n",
       "      <td>71</td>\n",
       "      <td>No</td>\n",
       "      <td>No</td>\n",
       "      <td>No</td>\n",
       "      <td>3</td>\n",
       "      <td>0</td>\n",
       "      <td>25</td>\n",
       "      <td>3</td>\n",
       "      <td>22</td>\n",
       "    </tr>\n",
       "    <tr>\n",
       "      <th>38310</th>\n",
       "      <td>YAK/S/54807</td>\n",
       "      <td>Commercial Sales and Marketing</td>\n",
       "      <td>First Degree or HND</td>\n",
       "      <td>1</td>\n",
       "      <td>Direct Internal process</td>\n",
       "      <td>2</td>\n",
       "      <td>1992</td>\n",
       "      <td>2.50</td>\n",
       "      <td>2017</td>\n",
       "      <td>0</td>\n",
       "      <td>0</td>\n",
       "      <td>37</td>\n",
       "      <td>Yes</td>\n",
       "      <td>No</td>\n",
       "      <td>No</td>\n",
       "      <td>1</td>\n",
       "      <td>0</td>\n",
       "      <td>27</td>\n",
       "      <td>2</td>\n",
       "      <td>25</td>\n",
       "    </tr>\n",
       "    <tr>\n",
       "      <th>38311</th>\n",
       "      <td>YAK/S/54808</td>\n",
       "      <td>People/HR Management</td>\n",
       "      <td>First Degree or HND</td>\n",
       "      <td>1</td>\n",
       "      <td>Agency and others</td>\n",
       "      <td>2</td>\n",
       "      <td>1994</td>\n",
       "      <td>2.50</td>\n",
       "      <td>2014</td>\n",
       "      <td>0</td>\n",
       "      <td>0</td>\n",
       "      <td>41</td>\n",
       "      <td>Yes</td>\n",
       "      <td>No</td>\n",
       "      <td>No</td>\n",
       "      <td>2</td>\n",
       "      <td>0</td>\n",
       "      <td>25</td>\n",
       "      <td>5</td>\n",
       "      <td>20</td>\n",
       "    </tr>\n",
       "  </tbody>\n",
       "</table>\n",
       "</div>"
      ],
      "text/plain": [
       "        EmployeeNo                                     Division  \\\n",
       "38307  YAK/S/54802  Information Technology and Solution Support   \n",
       "38308  YAK/S/54805        Customer Support and Field Operations   \n",
       "38309  YAK/S/54806                     Information and Strategy   \n",
       "38310  YAK/S/54807               Commercial Sales and Marketing   \n",
       "38311  YAK/S/54808                         People/HR Management   \n",
       "\n",
       "             Qualification  Gender   Channel_of_Recruitment  \\\n",
       "38307  First Degree or HND       0  Direct Internal process   \n",
       "38308     MSc, MBA and PhD       0        Agency and others   \n",
       "38309  First Degree or HND       1        Agency and others   \n",
       "38310  First Degree or HND       1  Direct Internal process   \n",
       "38311  First Degree or HND       1        Agency and others   \n",
       "\n",
       "       Trainings_Attended  Year_of_birth  Last_performance_score  \\\n",
       "38307                   2           1990                    0.00   \n",
       "38308                   2           1984                    5.00   \n",
       "38309                   2           1994                   12.50   \n",
       "38310                   2           1992                    2.50   \n",
       "38311                   2           1994                    2.50   \n",
       "\n",
       "       Year_of_recruitment  Targets_met  Previous_Award  \\\n",
       "38307                 2018            0               0   \n",
       "38308                 2013            0               0   \n",
       "38309                 2016            1               0   \n",
       "38310                 2017            0               0   \n",
       "38311                 2014            0               0   \n",
       "\n",
       "       Training_score_average Foreign_schooled Past_Disciplinary_Action  \\\n",
       "38307                      70              Yes                       No   \n",
       "38308                      48              Yes                       No   \n",
       "38309                      71               No                       No   \n",
       "38310                      37              Yes                       No   \n",
       "38311                      41              Yes                       No   \n",
       "\n",
       "      Previous_IntraDepartmental_Movement No_of_previous_employers  \\\n",
       "38307                                  No                        0   \n",
       "38308                                  No                        1   \n",
       "38309                                  No                        3   \n",
       "38310                                  No                        1   \n",
       "38311                                  No                        2   \n",
       "\n",
       "       Promoted_or_Not  Age  Duration_of_Employment (YEARS)  Employment_Age  \n",
       "38307                0   29                               1              28  \n",
       "38308                0   35                               6              29  \n",
       "38309                0   25                               3              22  \n",
       "38310                0   27                               2              25  \n",
       "38311                0   25                               5              20  "
      ]
     },
     "execution_count": 37,
     "metadata": {},
     "output_type": "execute_result"
    }
   ],
   "source": [
    "Staff['Age'] = 2019 - Staff['Year_of_birth']\n",
    "Staff['Duration_of_Employment (YEARS)'] = 2019 - Staff['Year_of_recruitment']\n",
    "Staff['Employment_Age'] = Staff['Year_of_recruitment'] - Staff['Year_of_birth']\n",
    "Staff.tail()"
   ]
  },
  {
   "cell_type": "markdown",
   "metadata": {},
   "source": [
    "#### Getting the Categorical Features from the Staff Data"
   ]
  },
  {
   "cell_type": "code",
   "execution_count": 38,
   "metadata": {},
   "outputs": [
    {
     "data": {
      "text/html": [
       "<div>\n",
       "<style scoped>\n",
       "    .dataframe tbody tr th:only-of-type {\n",
       "        vertical-align: middle;\n",
       "    }\n",
       "\n",
       "    .dataframe tbody tr th {\n",
       "        vertical-align: top;\n",
       "    }\n",
       "\n",
       "    .dataframe thead th {\n",
       "        text-align: right;\n",
       "    }\n",
       "</style>\n",
       "<table border=\"1\" class=\"dataframe\">\n",
       "  <thead>\n",
       "    <tr style=\"text-align: right;\">\n",
       "      <th></th>\n",
       "      <th>Division</th>\n",
       "      <th>Qualification</th>\n",
       "      <th>Channel_of_Recruitment</th>\n",
       "      <th>Foreign_schooled</th>\n",
       "      <th>Past_Disciplinary_Action</th>\n",
       "      <th>Previous_IntraDepartmental_Movement</th>\n",
       "      <th>No_of_previous_employers</th>\n",
       "    </tr>\n",
       "  </thead>\n",
       "  <tbody>\n",
       "    <tr>\n",
       "      <th>0</th>\n",
       "      <td>Commercial Sales and Marketing</td>\n",
       "      <td>MSc, MBA and PhD</td>\n",
       "      <td>Direct Internal process</td>\n",
       "      <td>No</td>\n",
       "      <td>No</td>\n",
       "      <td>No</td>\n",
       "      <td>0</td>\n",
       "    </tr>\n",
       "    <tr>\n",
       "      <th>1</th>\n",
       "      <td>Customer Support and Field Operations</td>\n",
       "      <td>First Degree or HND</td>\n",
       "      <td>Agency and others</td>\n",
       "      <td>Yes</td>\n",
       "      <td>No</td>\n",
       "      <td>No</td>\n",
       "      <td>0</td>\n",
       "    </tr>\n",
       "    <tr>\n",
       "      <th>2</th>\n",
       "      <td>Commercial Sales and Marketing</td>\n",
       "      <td>First Degree or HND</td>\n",
       "      <td>Direct Internal process</td>\n",
       "      <td>Yes</td>\n",
       "      <td>No</td>\n",
       "      <td>No</td>\n",
       "      <td>0</td>\n",
       "    </tr>\n",
       "    <tr>\n",
       "      <th>3</th>\n",
       "      <td>Commercial Sales and Marketing</td>\n",
       "      <td>First Degree or HND</td>\n",
       "      <td>Agency and others</td>\n",
       "      <td>Yes</td>\n",
       "      <td>No</td>\n",
       "      <td>No</td>\n",
       "      <td>1</td>\n",
       "    </tr>\n",
       "    <tr>\n",
       "      <th>4</th>\n",
       "      <td>Information and Strategy</td>\n",
       "      <td>First Degree or HND</td>\n",
       "      <td>Direct Internal process</td>\n",
       "      <td>Yes</td>\n",
       "      <td>No</td>\n",
       "      <td>No</td>\n",
       "      <td>1</td>\n",
       "    </tr>\n",
       "  </tbody>\n",
       "</table>\n",
       "</div>"
      ],
      "text/plain": [
       "                                Division        Qualification  \\\n",
       "0         Commercial Sales and Marketing     MSc, MBA and PhD   \n",
       "1  Customer Support and Field Operations  First Degree or HND   \n",
       "2         Commercial Sales and Marketing  First Degree or HND   \n",
       "3         Commercial Sales and Marketing  First Degree or HND   \n",
       "4               Information and Strategy  First Degree or HND   \n",
       "\n",
       "    Channel_of_Recruitment Foreign_schooled Past_Disciplinary_Action  \\\n",
       "0  Direct Internal process               No                       No   \n",
       "1        Agency and others              Yes                       No   \n",
       "2  Direct Internal process              Yes                       No   \n",
       "3        Agency and others              Yes                       No   \n",
       "4  Direct Internal process              Yes                       No   \n",
       "\n",
       "  Previous_IntraDepartmental_Movement No_of_previous_employers  \n",
       "0                                  No                        0  \n",
       "1                                  No                        0  \n",
       "2                                  No                        0  \n",
       "3                                  No                        1  \n",
       "4                                  No                        1  "
      ]
     },
     "execution_count": 38,
     "metadata": {},
     "output_type": "execute_result"
    }
   ],
   "source": [
    "Final_Categorical = Staff.drop(['EmployeeNo'], axis=1, inplace=True)\n",
    "Final_Categorical = Staff.select_dtypes(include=['object'])\n",
    "Final_Categorical.head()"
   ]
  },
  {
   "cell_type": "markdown",
   "metadata": {},
   "source": [
    "#### Encoding the Categorical Features Using Dummies"
   ]
  },
  {
   "cell_type": "code",
   "execution_count": 39,
   "metadata": {},
   "outputs": [
    {
     "data": {
      "text/html": [
       "<div>\n",
       "<style scoped>\n",
       "    .dataframe tbody tr th:only-of-type {\n",
       "        vertical-align: middle;\n",
       "    }\n",
       "\n",
       "    .dataframe tbody tr th {\n",
       "        vertical-align: top;\n",
       "    }\n",
       "\n",
       "    .dataframe thead th {\n",
       "        text-align: right;\n",
       "    }\n",
       "</style>\n",
       "<table border=\"1\" class=\"dataframe\">\n",
       "  <thead>\n",
       "    <tr style=\"text-align: right;\">\n",
       "      <th></th>\n",
       "      <th>Division_Business Finance Operations</th>\n",
       "      <th>Division_Commercial Sales and Marketing</th>\n",
       "      <th>Division_Customer Support and Field Operations</th>\n",
       "      <th>Division_Information Technology and Solution Support</th>\n",
       "      <th>Division_Information and Strategy</th>\n",
       "      <th>Division_People/HR Management</th>\n",
       "      <th>Division_Regulatory and Legal services</th>\n",
       "      <th>Division_Research and Innovation</th>\n",
       "      <th>Division_Sourcing and Purchasing</th>\n",
       "      <th>Qualification_First Degree or HND</th>\n",
       "      <th>Qualification_MSc, MBA and PhD</th>\n",
       "      <th>Qualification_Non-University Education</th>\n",
       "      <th>Channel_of_Recruitment_Agency and others</th>\n",
       "      <th>Channel_of_Recruitment_Direct Internal process</th>\n",
       "      <th>Channel_of_Recruitment_Referral and Special candidates</th>\n",
       "      <th>Foreign_schooled_No</th>\n",
       "      <th>Foreign_schooled_Yes</th>\n",
       "      <th>Past_Disciplinary_Action_No</th>\n",
       "      <th>Past_Disciplinary_Action_Yes</th>\n",
       "      <th>Previous_IntraDepartmental_Movement_No</th>\n",
       "      <th>Previous_IntraDepartmental_Movement_Yes</th>\n",
       "      <th>No_of_previous_employers_0</th>\n",
       "      <th>No_of_previous_employers_1</th>\n",
       "      <th>No_of_previous_employers_2</th>\n",
       "      <th>No_of_previous_employers_3</th>\n",
       "      <th>No_of_previous_employers_4</th>\n",
       "      <th>No_of_previous_employers_5</th>\n",
       "      <th>No_of_previous_employers_More than 5</th>\n",
       "    </tr>\n",
       "  </thead>\n",
       "  <tbody>\n",
       "    <tr>\n",
       "      <th>0</th>\n",
       "      <td>0</td>\n",
       "      <td>1</td>\n",
       "      <td>0</td>\n",
       "      <td>0</td>\n",
       "      <td>0</td>\n",
       "      <td>0</td>\n",
       "      <td>0</td>\n",
       "      <td>0</td>\n",
       "      <td>0</td>\n",
       "      <td>0</td>\n",
       "      <td>1</td>\n",
       "      <td>0</td>\n",
       "      <td>0</td>\n",
       "      <td>1</td>\n",
       "      <td>0</td>\n",
       "      <td>1</td>\n",
       "      <td>0</td>\n",
       "      <td>1</td>\n",
       "      <td>0</td>\n",
       "      <td>1</td>\n",
       "      <td>0</td>\n",
       "      <td>1</td>\n",
       "      <td>0</td>\n",
       "      <td>0</td>\n",
       "      <td>0</td>\n",
       "      <td>0</td>\n",
       "      <td>0</td>\n",
       "      <td>0</td>\n",
       "    </tr>\n",
       "    <tr>\n",
       "      <th>1</th>\n",
       "      <td>0</td>\n",
       "      <td>0</td>\n",
       "      <td>1</td>\n",
       "      <td>0</td>\n",
       "      <td>0</td>\n",
       "      <td>0</td>\n",
       "      <td>0</td>\n",
       "      <td>0</td>\n",
       "      <td>0</td>\n",
       "      <td>1</td>\n",
       "      <td>0</td>\n",
       "      <td>0</td>\n",
       "      <td>1</td>\n",
       "      <td>0</td>\n",
       "      <td>0</td>\n",
       "      <td>0</td>\n",
       "      <td>1</td>\n",
       "      <td>1</td>\n",
       "      <td>0</td>\n",
       "      <td>1</td>\n",
       "      <td>0</td>\n",
       "      <td>1</td>\n",
       "      <td>0</td>\n",
       "      <td>0</td>\n",
       "      <td>0</td>\n",
       "      <td>0</td>\n",
       "      <td>0</td>\n",
       "      <td>0</td>\n",
       "    </tr>\n",
       "    <tr>\n",
       "      <th>2</th>\n",
       "      <td>0</td>\n",
       "      <td>1</td>\n",
       "      <td>0</td>\n",
       "      <td>0</td>\n",
       "      <td>0</td>\n",
       "      <td>0</td>\n",
       "      <td>0</td>\n",
       "      <td>0</td>\n",
       "      <td>0</td>\n",
       "      <td>1</td>\n",
       "      <td>0</td>\n",
       "      <td>0</td>\n",
       "      <td>0</td>\n",
       "      <td>1</td>\n",
       "      <td>0</td>\n",
       "      <td>0</td>\n",
       "      <td>1</td>\n",
       "      <td>1</td>\n",
       "      <td>0</td>\n",
       "      <td>1</td>\n",
       "      <td>0</td>\n",
       "      <td>1</td>\n",
       "      <td>0</td>\n",
       "      <td>0</td>\n",
       "      <td>0</td>\n",
       "      <td>0</td>\n",
       "      <td>0</td>\n",
       "      <td>0</td>\n",
       "    </tr>\n",
       "    <tr>\n",
       "      <th>3</th>\n",
       "      <td>0</td>\n",
       "      <td>1</td>\n",
       "      <td>0</td>\n",
       "      <td>0</td>\n",
       "      <td>0</td>\n",
       "      <td>0</td>\n",
       "      <td>0</td>\n",
       "      <td>0</td>\n",
       "      <td>0</td>\n",
       "      <td>1</td>\n",
       "      <td>0</td>\n",
       "      <td>0</td>\n",
       "      <td>1</td>\n",
       "      <td>0</td>\n",
       "      <td>0</td>\n",
       "      <td>0</td>\n",
       "      <td>1</td>\n",
       "      <td>1</td>\n",
       "      <td>0</td>\n",
       "      <td>1</td>\n",
       "      <td>0</td>\n",
       "      <td>0</td>\n",
       "      <td>1</td>\n",
       "      <td>0</td>\n",
       "      <td>0</td>\n",
       "      <td>0</td>\n",
       "      <td>0</td>\n",
       "      <td>0</td>\n",
       "    </tr>\n",
       "    <tr>\n",
       "      <th>4</th>\n",
       "      <td>0</td>\n",
       "      <td>0</td>\n",
       "      <td>0</td>\n",
       "      <td>0</td>\n",
       "      <td>1</td>\n",
       "      <td>0</td>\n",
       "      <td>0</td>\n",
       "      <td>0</td>\n",
       "      <td>0</td>\n",
       "      <td>1</td>\n",
       "      <td>0</td>\n",
       "      <td>0</td>\n",
       "      <td>0</td>\n",
       "      <td>1</td>\n",
       "      <td>0</td>\n",
       "      <td>0</td>\n",
       "      <td>1</td>\n",
       "      <td>1</td>\n",
       "      <td>0</td>\n",
       "      <td>1</td>\n",
       "      <td>0</td>\n",
       "      <td>0</td>\n",
       "      <td>1</td>\n",
       "      <td>0</td>\n",
       "      <td>0</td>\n",
       "      <td>0</td>\n",
       "      <td>0</td>\n",
       "      <td>0</td>\n",
       "    </tr>\n",
       "  </tbody>\n",
       "</table>\n",
       "</div>"
      ],
      "text/plain": [
       "   Division_Business Finance Operations  \\\n",
       "0                                     0   \n",
       "1                                     0   \n",
       "2                                     0   \n",
       "3                                     0   \n",
       "4                                     0   \n",
       "\n",
       "   Division_Commercial Sales and Marketing  \\\n",
       "0                                        1   \n",
       "1                                        0   \n",
       "2                                        1   \n",
       "3                                        1   \n",
       "4                                        0   \n",
       "\n",
       "   Division_Customer Support and Field Operations  \\\n",
       "0                                               0   \n",
       "1                                               1   \n",
       "2                                               0   \n",
       "3                                               0   \n",
       "4                                               0   \n",
       "\n",
       "   Division_Information Technology and Solution Support  \\\n",
       "0                                                  0      \n",
       "1                                                  0      \n",
       "2                                                  0      \n",
       "3                                                  0      \n",
       "4                                                  0      \n",
       "\n",
       "   Division_Information and Strategy  Division_People/HR Management  \\\n",
       "0                                  0                              0   \n",
       "1                                  0                              0   \n",
       "2                                  0                              0   \n",
       "3                                  0                              0   \n",
       "4                                  1                              0   \n",
       "\n",
       "   Division_Regulatory and Legal services  Division_Research and Innovation  \\\n",
       "0                                       0                                 0   \n",
       "1                                       0                                 0   \n",
       "2                                       0                                 0   \n",
       "3                                       0                                 0   \n",
       "4                                       0                                 0   \n",
       "\n",
       "   Division_Sourcing and Purchasing  Qualification_First Degree or HND  \\\n",
       "0                                 0                                  0   \n",
       "1                                 0                                  1   \n",
       "2                                 0                                  1   \n",
       "3                                 0                                  1   \n",
       "4                                 0                                  1   \n",
       "\n",
       "   Qualification_MSc, MBA and PhD  Qualification_Non-University Education  \\\n",
       "0                               1                                       0   \n",
       "1                               0                                       0   \n",
       "2                               0                                       0   \n",
       "3                               0                                       0   \n",
       "4                               0                                       0   \n",
       "\n",
       "   Channel_of_Recruitment_Agency and others  \\\n",
       "0                                         0   \n",
       "1                                         1   \n",
       "2                                         0   \n",
       "3                                         1   \n",
       "4                                         0   \n",
       "\n",
       "   Channel_of_Recruitment_Direct Internal process  \\\n",
       "0                                               1   \n",
       "1                                               0   \n",
       "2                                               1   \n",
       "3                                               0   \n",
       "4                                               1   \n",
       "\n",
       "   Channel_of_Recruitment_Referral and Special candidates  \\\n",
       "0                                                  0        \n",
       "1                                                  0        \n",
       "2                                                  0        \n",
       "3                                                  0        \n",
       "4                                                  0        \n",
       "\n",
       "   Foreign_schooled_No  Foreign_schooled_Yes  Past_Disciplinary_Action_No  \\\n",
       "0                    1                     0                            1   \n",
       "1                    0                     1                            1   \n",
       "2                    0                     1                            1   \n",
       "3                    0                     1                            1   \n",
       "4                    0                     1                            1   \n",
       "\n",
       "   Past_Disciplinary_Action_Yes  Previous_IntraDepartmental_Movement_No  \\\n",
       "0                             0                                       1   \n",
       "1                             0                                       1   \n",
       "2                             0                                       1   \n",
       "3                             0                                       1   \n",
       "4                             0                                       1   \n",
       "\n",
       "   Previous_IntraDepartmental_Movement_Yes  No_of_previous_employers_0  \\\n",
       "0                                        0                           1   \n",
       "1                                        0                           1   \n",
       "2                                        0                           1   \n",
       "3                                        0                           0   \n",
       "4                                        0                           0   \n",
       "\n",
       "   No_of_previous_employers_1  No_of_previous_employers_2  \\\n",
       "0                           0                           0   \n",
       "1                           0                           0   \n",
       "2                           0                           0   \n",
       "3                           1                           0   \n",
       "4                           1                           0   \n",
       "\n",
       "   No_of_previous_employers_3  No_of_previous_employers_4  \\\n",
       "0                           0                           0   \n",
       "1                           0                           0   \n",
       "2                           0                           0   \n",
       "3                           0                           0   \n",
       "4                           0                           0   \n",
       "\n",
       "   No_of_previous_employers_5  No_of_previous_employers_More than 5  \n",
       "0                           0                                     0  \n",
       "1                           0                                     0  \n",
       "2                           0                                     0  \n",
       "3                           0                                     0  \n",
       "4                           0                                     0  "
      ]
     },
     "execution_count": 39,
     "metadata": {},
     "output_type": "execute_result"
    }
   ],
   "source": [
    "Final_Categorical_Dummies = pd.get_dummies(Final_Categorical)\n",
    "Final_Categorical_Dummies.head()"
   ]
  },
  {
   "cell_type": "code",
   "execution_count": 40,
   "metadata": {},
   "outputs": [
    {
     "data": {
      "text/plain": [
       "(38312, 28)"
      ]
     },
     "execution_count": 40,
     "metadata": {},
     "output_type": "execute_result"
    }
   ],
   "source": [
    "Final_Categorical_Dummies.shape"
   ]
  },
  {
   "cell_type": "markdown",
   "metadata": {},
   "source": [
    "#### Getting the Numeric Features from the Staff Data"
   ]
  },
  {
   "cell_type": "code",
   "execution_count": 41,
   "metadata": {},
   "outputs": [
    {
     "data": {
      "text/plain": [
       "array([False, False,  True, False,  True,  True,  True,  True,  True,\n",
       "        True,  True, False, False, False, False,  True,  True,  True,\n",
       "        True])"
      ]
     },
     "execution_count": 41,
     "metadata": {},
     "output_type": "execute_result"
    }
   ],
   "source": [
    "New_Numeric = (Staff.dtypes=='int64') | (Staff.dtypes=='int32') | (Staff.dtypes=='float64')\n",
    "New_Numeric.values"
   ]
  },
  {
   "cell_type": "code",
   "execution_count": 42,
   "metadata": {},
   "outputs": [
    {
     "data": {
      "text/html": [
       "<div>\n",
       "<style scoped>\n",
       "    .dataframe tbody tr th:only-of-type {\n",
       "        vertical-align: middle;\n",
       "    }\n",
       "\n",
       "    .dataframe tbody tr th {\n",
       "        vertical-align: top;\n",
       "    }\n",
       "\n",
       "    .dataframe thead th {\n",
       "        text-align: right;\n",
       "    }\n",
       "</style>\n",
       "<table border=\"1\" class=\"dataframe\">\n",
       "  <thead>\n",
       "    <tr style=\"text-align: right;\">\n",
       "      <th></th>\n",
       "      <th>Gender</th>\n",
       "      <th>Trainings_Attended</th>\n",
       "      <th>Last_performance_score</th>\n",
       "      <th>Targets_met</th>\n",
       "      <th>Previous_Award</th>\n",
       "      <th>Training_score_average</th>\n",
       "      <th>Promoted_or_Not</th>\n",
       "      <th>Age</th>\n",
       "      <th>Duration_of_Employment (YEARS)</th>\n",
       "      <th>Employment_Age</th>\n",
       "    </tr>\n",
       "  </thead>\n",
       "  <tbody>\n",
       "    <tr>\n",
       "      <th>0</th>\n",
       "      <td>0</td>\n",
       "      <td>2</td>\n",
       "      <td>12.50</td>\n",
       "      <td>1</td>\n",
       "      <td>0</td>\n",
       "      <td>41</td>\n",
       "      <td>0</td>\n",
       "      <td>33</td>\n",
       "      <td>8</td>\n",
       "      <td>25</td>\n",
       "    </tr>\n",
       "    <tr>\n",
       "      <th>1</th>\n",
       "      <td>1</td>\n",
       "      <td>2</td>\n",
       "      <td>12.50</td>\n",
       "      <td>0</td>\n",
       "      <td>0</td>\n",
       "      <td>52</td>\n",
       "      <td>0</td>\n",
       "      <td>28</td>\n",
       "      <td>4</td>\n",
       "      <td>24</td>\n",
       "    </tr>\n",
       "    <tr>\n",
       "      <th>2</th>\n",
       "      <td>1</td>\n",
       "      <td>2</td>\n",
       "      <td>7.50</td>\n",
       "      <td>0</td>\n",
       "      <td>0</td>\n",
       "      <td>42</td>\n",
       "      <td>0</td>\n",
       "      <td>32</td>\n",
       "      <td>7</td>\n",
       "      <td>25</td>\n",
       "    </tr>\n",
       "    <tr>\n",
       "      <th>3</th>\n",
       "      <td>1</td>\n",
       "      <td>3</td>\n",
       "      <td>2.50</td>\n",
       "      <td>0</td>\n",
       "      <td>0</td>\n",
       "      <td>42</td>\n",
       "      <td>0</td>\n",
       "      <td>37</td>\n",
       "      <td>10</td>\n",
       "      <td>27</td>\n",
       "    </tr>\n",
       "    <tr>\n",
       "      <th>4</th>\n",
       "      <td>1</td>\n",
       "      <td>3</td>\n",
       "      <td>7.50</td>\n",
       "      <td>0</td>\n",
       "      <td>0</td>\n",
       "      <td>77</td>\n",
       "      <td>0</td>\n",
       "      <td>29</td>\n",
       "      <td>7</td>\n",
       "      <td>22</td>\n",
       "    </tr>\n",
       "  </tbody>\n",
       "</table>\n",
       "</div>"
      ],
      "text/plain": [
       "   Gender  Trainings_Attended  Last_performance_score  Targets_met  \\\n",
       "0       0                   2                   12.50            1   \n",
       "1       1                   2                   12.50            0   \n",
       "2       1                   2                    7.50            0   \n",
       "3       1                   3                    2.50            0   \n",
       "4       1                   3                    7.50            0   \n",
       "\n",
       "   Previous_Award  Training_score_average  Promoted_or_Not  Age  \\\n",
       "0               0                      41                0   33   \n",
       "1               0                      52                0   28   \n",
       "2               0                      42                0   32   \n",
       "3               0                      42                0   37   \n",
       "4               0                      77                0   29   \n",
       "\n",
       "   Duration_of_Employment (YEARS)  Employment_Age  \n",
       "0                               8              25  \n",
       "1                               4              24  \n",
       "2                               7              25  \n",
       "3                              10              27  \n",
       "4                               7              22  "
      ]
     },
     "execution_count": 42,
     "metadata": {},
     "output_type": "execute_result"
    }
   ],
   "source": [
    "Final_Numeric = Staff.iloc[:, New_Numeric.values]\n",
    "Final_Numeric = Final_Numeric.drop(['Year_of_birth', 'Year_of_recruitment'], axis = 1)\n",
    "Final_Numeric.head()"
   ]
  },
  {
   "cell_type": "code",
   "execution_count": 43,
   "metadata": {},
   "outputs": [
    {
     "data": {
      "text/html": [
       "<div>\n",
       "<style scoped>\n",
       "    .dataframe tbody tr th:only-of-type {\n",
       "        vertical-align: middle;\n",
       "    }\n",
       "\n",
       "    .dataframe tbody tr th {\n",
       "        vertical-align: top;\n",
       "    }\n",
       "\n",
       "    .dataframe thead th {\n",
       "        text-align: right;\n",
       "    }\n",
       "</style>\n",
       "<table border=\"1\" class=\"dataframe\">\n",
       "  <thead>\n",
       "    <tr style=\"text-align: right;\">\n",
       "      <th></th>\n",
       "      <th>Gender</th>\n",
       "      <th>Trainings_Attended</th>\n",
       "      <th>Last_performance_score</th>\n",
       "      <th>Targets_met</th>\n",
       "      <th>Previous_Award</th>\n",
       "      <th>Training_score_average</th>\n",
       "      <th>Promoted_or_Not</th>\n",
       "      <th>Age</th>\n",
       "      <th>Duration_of_Employment (YEARS)</th>\n",
       "      <th>Employment_Age</th>\n",
       "    </tr>\n",
       "  </thead>\n",
       "  <tbody>\n",
       "    <tr>\n",
       "      <th>0</th>\n",
       "      <td>0</td>\n",
       "      <td>2</td>\n",
       "      <td>12.50</td>\n",
       "      <td>1</td>\n",
       "      <td>0</td>\n",
       "      <td>41</td>\n",
       "      <td>0</td>\n",
       "      <td>33</td>\n",
       "      <td>8</td>\n",
       "      <td>25</td>\n",
       "    </tr>\n",
       "    <tr>\n",
       "      <th>1</th>\n",
       "      <td>1</td>\n",
       "      <td>2</td>\n",
       "      <td>12.50</td>\n",
       "      <td>0</td>\n",
       "      <td>0</td>\n",
       "      <td>52</td>\n",
       "      <td>0</td>\n",
       "      <td>28</td>\n",
       "      <td>4</td>\n",
       "      <td>24</td>\n",
       "    </tr>\n",
       "    <tr>\n",
       "      <th>2</th>\n",
       "      <td>1</td>\n",
       "      <td>2</td>\n",
       "      <td>7.50</td>\n",
       "      <td>0</td>\n",
       "      <td>0</td>\n",
       "      <td>42</td>\n",
       "      <td>0</td>\n",
       "      <td>32</td>\n",
       "      <td>7</td>\n",
       "      <td>25</td>\n",
       "    </tr>\n",
       "    <tr>\n",
       "      <th>3</th>\n",
       "      <td>1</td>\n",
       "      <td>3</td>\n",
       "      <td>2.50</td>\n",
       "      <td>0</td>\n",
       "      <td>0</td>\n",
       "      <td>42</td>\n",
       "      <td>0</td>\n",
       "      <td>37</td>\n",
       "      <td>10</td>\n",
       "      <td>27</td>\n",
       "    </tr>\n",
       "    <tr>\n",
       "      <th>4</th>\n",
       "      <td>1</td>\n",
       "      <td>3</td>\n",
       "      <td>7.50</td>\n",
       "      <td>0</td>\n",
       "      <td>0</td>\n",
       "      <td>77</td>\n",
       "      <td>0</td>\n",
       "      <td>29</td>\n",
       "      <td>7</td>\n",
       "      <td>22</td>\n",
       "    </tr>\n",
       "  </tbody>\n",
       "</table>\n",
       "</div>"
      ],
      "text/plain": [
       "   Gender  Trainings_Attended  Last_performance_score  Targets_met  \\\n",
       "0       0                   2                   12.50            1   \n",
       "1       1                   2                   12.50            0   \n",
       "2       1                   2                    7.50            0   \n",
       "3       1                   3                    2.50            0   \n",
       "4       1                   3                    7.50            0   \n",
       "\n",
       "   Previous_Award  Training_score_average  Promoted_or_Not  Age  \\\n",
       "0               0                      41                0   33   \n",
       "1               0                      52                0   28   \n",
       "2               0                      42                0   32   \n",
       "3               0                      42                0   37   \n",
       "4               0                      77                0   29   \n",
       "\n",
       "   Duration_of_Employment (YEARS)  Employment_Age  \n",
       "0                               8              25  \n",
       "1                               4              24  \n",
       "2                               7              25  \n",
       "3                              10              27  \n",
       "4                               7              22  "
      ]
     },
     "execution_count": 43,
     "metadata": {},
     "output_type": "execute_result"
    }
   ],
   "source": [
    "Final_Numeric = Staff.iloc[:, New_Numeric.values]\n",
    "Final_Numeric = Final_Numeric.drop(['Year_of_birth', 'Year_of_recruitment'], axis = 1)\n",
    "Final_Numeric.head()"
   ]
  },
  {
   "cell_type": "code",
   "execution_count": 44,
   "metadata": {},
   "outputs": [
    {
     "data": {
      "text/plain": [
       "(38312, 10)"
      ]
     },
     "execution_count": 44,
     "metadata": {},
     "output_type": "execute_result"
    }
   ],
   "source": [
    "Final_Numeric.shape"
   ]
  },
  {
   "cell_type": "code",
   "execution_count": 45,
   "metadata": {},
   "outputs": [
    {
     "data": {
      "text/html": [
       "<div>\n",
       "<style scoped>\n",
       "    .dataframe tbody tr th:only-of-type {\n",
       "        vertical-align: middle;\n",
       "    }\n",
       "\n",
       "    .dataframe tbody tr th {\n",
       "        vertical-align: top;\n",
       "    }\n",
       "\n",
       "    .dataframe thead th {\n",
       "        text-align: right;\n",
       "    }\n",
       "</style>\n",
       "<table border=\"1\" class=\"dataframe\">\n",
       "  <thead>\n",
       "    <tr style=\"text-align: right;\">\n",
       "      <th></th>\n",
       "      <th>Division_Business Finance Operations</th>\n",
       "      <th>Division_Commercial Sales and Marketing</th>\n",
       "      <th>Division_Customer Support and Field Operations</th>\n",
       "      <th>Division_Information Technology and Solution Support</th>\n",
       "      <th>Division_Information and Strategy</th>\n",
       "      <th>Division_People/HR Management</th>\n",
       "      <th>Division_Regulatory and Legal services</th>\n",
       "      <th>Division_Research and Innovation</th>\n",
       "      <th>Division_Sourcing and Purchasing</th>\n",
       "      <th>Qualification_First Degree or HND</th>\n",
       "      <th>Qualification_MSc, MBA and PhD</th>\n",
       "      <th>Qualification_Non-University Education</th>\n",
       "      <th>Channel_of_Recruitment_Agency and others</th>\n",
       "      <th>Channel_of_Recruitment_Direct Internal process</th>\n",
       "      <th>Channel_of_Recruitment_Referral and Special candidates</th>\n",
       "      <th>Foreign_schooled_No</th>\n",
       "      <th>Foreign_schooled_Yes</th>\n",
       "      <th>Past_Disciplinary_Action_No</th>\n",
       "      <th>Past_Disciplinary_Action_Yes</th>\n",
       "      <th>Previous_IntraDepartmental_Movement_No</th>\n",
       "      <th>Previous_IntraDepartmental_Movement_Yes</th>\n",
       "      <th>No_of_previous_employers_0</th>\n",
       "      <th>No_of_previous_employers_1</th>\n",
       "      <th>No_of_previous_employers_2</th>\n",
       "      <th>No_of_previous_employers_3</th>\n",
       "      <th>No_of_previous_employers_4</th>\n",
       "      <th>No_of_previous_employers_5</th>\n",
       "      <th>No_of_previous_employers_More than 5</th>\n",
       "      <th>Gender</th>\n",
       "      <th>Trainings_Attended</th>\n",
       "      <th>Last_performance_score</th>\n",
       "      <th>Targets_met</th>\n",
       "      <th>Previous_Award</th>\n",
       "      <th>Training_score_average</th>\n",
       "      <th>Promoted_or_Not</th>\n",
       "      <th>Age</th>\n",
       "      <th>Duration_of_Employment (YEARS)</th>\n",
       "      <th>Employment_Age</th>\n",
       "    </tr>\n",
       "  </thead>\n",
       "  <tbody>\n",
       "    <tr>\n",
       "      <th>0</th>\n",
       "      <td>0</td>\n",
       "      <td>1</td>\n",
       "      <td>0</td>\n",
       "      <td>0</td>\n",
       "      <td>0</td>\n",
       "      <td>0</td>\n",
       "      <td>0</td>\n",
       "      <td>0</td>\n",
       "      <td>0</td>\n",
       "      <td>0</td>\n",
       "      <td>1</td>\n",
       "      <td>0</td>\n",
       "      <td>0</td>\n",
       "      <td>1</td>\n",
       "      <td>0</td>\n",
       "      <td>1</td>\n",
       "      <td>0</td>\n",
       "      <td>1</td>\n",
       "      <td>0</td>\n",
       "      <td>1</td>\n",
       "      <td>0</td>\n",
       "      <td>1</td>\n",
       "      <td>0</td>\n",
       "      <td>0</td>\n",
       "      <td>0</td>\n",
       "      <td>0</td>\n",
       "      <td>0</td>\n",
       "      <td>0</td>\n",
       "      <td>0</td>\n",
       "      <td>2</td>\n",
       "      <td>12.50</td>\n",
       "      <td>1</td>\n",
       "      <td>0</td>\n",
       "      <td>41</td>\n",
       "      <td>0</td>\n",
       "      <td>33</td>\n",
       "      <td>8</td>\n",
       "      <td>25</td>\n",
       "    </tr>\n",
       "    <tr>\n",
       "      <th>1</th>\n",
       "      <td>0</td>\n",
       "      <td>0</td>\n",
       "      <td>1</td>\n",
       "      <td>0</td>\n",
       "      <td>0</td>\n",
       "      <td>0</td>\n",
       "      <td>0</td>\n",
       "      <td>0</td>\n",
       "      <td>0</td>\n",
       "      <td>1</td>\n",
       "      <td>0</td>\n",
       "      <td>0</td>\n",
       "      <td>1</td>\n",
       "      <td>0</td>\n",
       "      <td>0</td>\n",
       "      <td>0</td>\n",
       "      <td>1</td>\n",
       "      <td>1</td>\n",
       "      <td>0</td>\n",
       "      <td>1</td>\n",
       "      <td>0</td>\n",
       "      <td>1</td>\n",
       "      <td>0</td>\n",
       "      <td>0</td>\n",
       "      <td>0</td>\n",
       "      <td>0</td>\n",
       "      <td>0</td>\n",
       "      <td>0</td>\n",
       "      <td>1</td>\n",
       "      <td>2</td>\n",
       "      <td>12.50</td>\n",
       "      <td>0</td>\n",
       "      <td>0</td>\n",
       "      <td>52</td>\n",
       "      <td>0</td>\n",
       "      <td>28</td>\n",
       "      <td>4</td>\n",
       "      <td>24</td>\n",
       "    </tr>\n",
       "    <tr>\n",
       "      <th>2</th>\n",
       "      <td>0</td>\n",
       "      <td>1</td>\n",
       "      <td>0</td>\n",
       "      <td>0</td>\n",
       "      <td>0</td>\n",
       "      <td>0</td>\n",
       "      <td>0</td>\n",
       "      <td>0</td>\n",
       "      <td>0</td>\n",
       "      <td>1</td>\n",
       "      <td>0</td>\n",
       "      <td>0</td>\n",
       "      <td>0</td>\n",
       "      <td>1</td>\n",
       "      <td>0</td>\n",
       "      <td>0</td>\n",
       "      <td>1</td>\n",
       "      <td>1</td>\n",
       "      <td>0</td>\n",
       "      <td>1</td>\n",
       "      <td>0</td>\n",
       "      <td>1</td>\n",
       "      <td>0</td>\n",
       "      <td>0</td>\n",
       "      <td>0</td>\n",
       "      <td>0</td>\n",
       "      <td>0</td>\n",
       "      <td>0</td>\n",
       "      <td>1</td>\n",
       "      <td>2</td>\n",
       "      <td>7.50</td>\n",
       "      <td>0</td>\n",
       "      <td>0</td>\n",
       "      <td>42</td>\n",
       "      <td>0</td>\n",
       "      <td>32</td>\n",
       "      <td>7</td>\n",
       "      <td>25</td>\n",
       "    </tr>\n",
       "    <tr>\n",
       "      <th>3</th>\n",
       "      <td>0</td>\n",
       "      <td>1</td>\n",
       "      <td>0</td>\n",
       "      <td>0</td>\n",
       "      <td>0</td>\n",
       "      <td>0</td>\n",
       "      <td>0</td>\n",
       "      <td>0</td>\n",
       "      <td>0</td>\n",
       "      <td>1</td>\n",
       "      <td>0</td>\n",
       "      <td>0</td>\n",
       "      <td>1</td>\n",
       "      <td>0</td>\n",
       "      <td>0</td>\n",
       "      <td>0</td>\n",
       "      <td>1</td>\n",
       "      <td>1</td>\n",
       "      <td>0</td>\n",
       "      <td>1</td>\n",
       "      <td>0</td>\n",
       "      <td>0</td>\n",
       "      <td>1</td>\n",
       "      <td>0</td>\n",
       "      <td>0</td>\n",
       "      <td>0</td>\n",
       "      <td>0</td>\n",
       "      <td>0</td>\n",
       "      <td>1</td>\n",
       "      <td>3</td>\n",
       "      <td>2.50</td>\n",
       "      <td>0</td>\n",
       "      <td>0</td>\n",
       "      <td>42</td>\n",
       "      <td>0</td>\n",
       "      <td>37</td>\n",
       "      <td>10</td>\n",
       "      <td>27</td>\n",
       "    </tr>\n",
       "    <tr>\n",
       "      <th>4</th>\n",
       "      <td>0</td>\n",
       "      <td>0</td>\n",
       "      <td>0</td>\n",
       "      <td>0</td>\n",
       "      <td>1</td>\n",
       "      <td>0</td>\n",
       "      <td>0</td>\n",
       "      <td>0</td>\n",
       "      <td>0</td>\n",
       "      <td>1</td>\n",
       "      <td>0</td>\n",
       "      <td>0</td>\n",
       "      <td>0</td>\n",
       "      <td>1</td>\n",
       "      <td>0</td>\n",
       "      <td>0</td>\n",
       "      <td>1</td>\n",
       "      <td>1</td>\n",
       "      <td>0</td>\n",
       "      <td>1</td>\n",
       "      <td>0</td>\n",
       "      <td>0</td>\n",
       "      <td>1</td>\n",
       "      <td>0</td>\n",
       "      <td>0</td>\n",
       "      <td>0</td>\n",
       "      <td>0</td>\n",
       "      <td>0</td>\n",
       "      <td>1</td>\n",
       "      <td>3</td>\n",
       "      <td>7.50</td>\n",
       "      <td>0</td>\n",
       "      <td>0</td>\n",
       "      <td>77</td>\n",
       "      <td>0</td>\n",
       "      <td>29</td>\n",
       "      <td>7</td>\n",
       "      <td>22</td>\n",
       "    </tr>\n",
       "  </tbody>\n",
       "</table>\n",
       "</div>"
      ],
      "text/plain": [
       "   Division_Business Finance Operations  \\\n",
       "0                                     0   \n",
       "1                                     0   \n",
       "2                                     0   \n",
       "3                                     0   \n",
       "4                                     0   \n",
       "\n",
       "   Division_Commercial Sales and Marketing  \\\n",
       "0                                        1   \n",
       "1                                        0   \n",
       "2                                        1   \n",
       "3                                        1   \n",
       "4                                        0   \n",
       "\n",
       "   Division_Customer Support and Field Operations  \\\n",
       "0                                               0   \n",
       "1                                               1   \n",
       "2                                               0   \n",
       "3                                               0   \n",
       "4                                               0   \n",
       "\n",
       "   Division_Information Technology and Solution Support  \\\n",
       "0                                                  0      \n",
       "1                                                  0      \n",
       "2                                                  0      \n",
       "3                                                  0      \n",
       "4                                                  0      \n",
       "\n",
       "   Division_Information and Strategy  Division_People/HR Management  \\\n",
       "0                                  0                              0   \n",
       "1                                  0                              0   \n",
       "2                                  0                              0   \n",
       "3                                  0                              0   \n",
       "4                                  1                              0   \n",
       "\n",
       "   Division_Regulatory and Legal services  Division_Research and Innovation  \\\n",
       "0                                       0                                 0   \n",
       "1                                       0                                 0   \n",
       "2                                       0                                 0   \n",
       "3                                       0                                 0   \n",
       "4                                       0                                 0   \n",
       "\n",
       "   Division_Sourcing and Purchasing  Qualification_First Degree or HND  \\\n",
       "0                                 0                                  0   \n",
       "1                                 0                                  1   \n",
       "2                                 0                                  1   \n",
       "3                                 0                                  1   \n",
       "4                                 0                                  1   \n",
       "\n",
       "   Qualification_MSc, MBA and PhD  Qualification_Non-University Education  \\\n",
       "0                               1                                       0   \n",
       "1                               0                                       0   \n",
       "2                               0                                       0   \n",
       "3                               0                                       0   \n",
       "4                               0                                       0   \n",
       "\n",
       "   Channel_of_Recruitment_Agency and others  \\\n",
       "0                                         0   \n",
       "1                                         1   \n",
       "2                                         0   \n",
       "3                                         1   \n",
       "4                                         0   \n",
       "\n",
       "   Channel_of_Recruitment_Direct Internal process  \\\n",
       "0                                               1   \n",
       "1                                               0   \n",
       "2                                               1   \n",
       "3                                               0   \n",
       "4                                               1   \n",
       "\n",
       "   Channel_of_Recruitment_Referral and Special candidates  \\\n",
       "0                                                  0        \n",
       "1                                                  0        \n",
       "2                                                  0        \n",
       "3                                                  0        \n",
       "4                                                  0        \n",
       "\n",
       "   Foreign_schooled_No  Foreign_schooled_Yes  Past_Disciplinary_Action_No  \\\n",
       "0                    1                     0                            1   \n",
       "1                    0                     1                            1   \n",
       "2                    0                     1                            1   \n",
       "3                    0                     1                            1   \n",
       "4                    0                     1                            1   \n",
       "\n",
       "   Past_Disciplinary_Action_Yes  Previous_IntraDepartmental_Movement_No  \\\n",
       "0                             0                                       1   \n",
       "1                             0                                       1   \n",
       "2                             0                                       1   \n",
       "3                             0                                       1   \n",
       "4                             0                                       1   \n",
       "\n",
       "   Previous_IntraDepartmental_Movement_Yes  No_of_previous_employers_0  \\\n",
       "0                                        0                           1   \n",
       "1                                        0                           1   \n",
       "2                                        0                           1   \n",
       "3                                        0                           0   \n",
       "4                                        0                           0   \n",
       "\n",
       "   No_of_previous_employers_1  No_of_previous_employers_2  \\\n",
       "0                           0                           0   \n",
       "1                           0                           0   \n",
       "2                           0                           0   \n",
       "3                           1                           0   \n",
       "4                           1                           0   \n",
       "\n",
       "   No_of_previous_employers_3  No_of_previous_employers_4  \\\n",
       "0                           0                           0   \n",
       "1                           0                           0   \n",
       "2                           0                           0   \n",
       "3                           0                           0   \n",
       "4                           0                           0   \n",
       "\n",
       "   No_of_previous_employers_5  No_of_previous_employers_More than 5  Gender  \\\n",
       "0                           0                                     0       0   \n",
       "1                           0                                     0       1   \n",
       "2                           0                                     0       1   \n",
       "3                           0                                     0       1   \n",
       "4                           0                                     0       1   \n",
       "\n",
       "   Trainings_Attended  Last_performance_score  Targets_met  Previous_Award  \\\n",
       "0                   2                   12.50            1               0   \n",
       "1                   2                   12.50            0               0   \n",
       "2                   2                    7.50            0               0   \n",
       "3                   3                    2.50            0               0   \n",
       "4                   3                    7.50            0               0   \n",
       "\n",
       "   Training_score_average  Promoted_or_Not  Age  \\\n",
       "0                      41                0   33   \n",
       "1                      52                0   28   \n",
       "2                      42                0   32   \n",
       "3                      42                0   37   \n",
       "4                      77                0   29   \n",
       "\n",
       "   Duration_of_Employment (YEARS)  Employment_Age  \n",
       "0                               8              25  \n",
       "1                               4              24  \n",
       "2                               7              25  \n",
       "3                              10              27  \n",
       "4                               7              22  "
      ]
     },
     "execution_count": 45,
     "metadata": {},
     "output_type": "execute_result"
    }
   ],
   "source": [
    "Encoded_Data = pd.concat([Final_Categorical_Dummies, Final_Numeric], axis=1)\n",
    "Encoded_Data.head()"
   ]
  },
  {
   "cell_type": "code",
   "execution_count": 46,
   "metadata": {},
   "outputs": [
    {
     "data": {
      "text/plain": [
       "(38312, 38)"
      ]
     },
     "execution_count": 46,
     "metadata": {},
     "output_type": "execute_result"
    }
   ],
   "source": [
    "Encoded_Data.shape"
   ]
  },
  {
   "cell_type": "markdown",
   "metadata": {},
   "source": [
    "## Checking for Imbalance on the Staff Dataset"
   ]
  },
  {
   "cell_type": "code",
   "execution_count": 47,
   "metadata": {},
   "outputs": [
    {
     "data": {
      "text/plain": [
       "0    35071\n",
       "1     3241\n",
       "Name: Promoted_or_Not, dtype: int64"
      ]
     },
     "execution_count": 47,
     "metadata": {},
     "output_type": "execute_result"
    }
   ],
   "source": [
    "Staff['Promoted_or_Not'].value_counts()"
   ]
  },
  {
   "cell_type": "markdown",
   "metadata": {},
   "source": [
    "### Percentage Distribution of the Imbalance on the Staff Dataset"
   ]
  },
  {
   "cell_type": "code",
   "execution_count": 48,
   "metadata": {},
   "outputs": [
    {
     "name": "stdout",
     "output_type": "stream",
     "text": [
      "NOT PROMOTED, 0 Represents 91.54 % of the Train Set\n",
      "PROMOTED, 1 Represents 8.46 % of the Train Set\n"
     ]
    }
   ],
   "source": [
    "print('NOT PROMOTED, 0 Represents', round(Staff['Promoted_or_Not'].value_counts()[0]/len(Staff) * 100,2), '% of the Train Set')\n",
    "print('PROMOTED, 1 Represents', round(Staff['Promoted_or_Not'].value_counts()[1]/len(Staff) * 100,2), '% of the Train Set')"
   ]
  },
  {
   "cell_type": "code",
   "execution_count": 49,
   "metadata": {},
   "outputs": [
    {
     "data": {
      "text/plain": [
       "Text(0.5, 1.0, 'Promotion Imbalance \\n Percentage Distribution \\n \\n (0: Not Promoted || 1: Promoted)')"
      ]
     },
     "execution_count": 49,
     "metadata": {},
     "output_type": "execute_result"
    },
    {
     "data": {
      "image/png": "[encoded data removed]",
      "text/plain": [
       "<Figure size 800x550 with 1 Axes>"
      ]
     },
     "metadata": {},
     "output_type": "display_data"
    }
   ],
   "source": [
    "# Distribution Plot of The Imbalance on the Dataset\n",
    "sns.countplot('Promoted_or_Not', data=Staff)\n",
    "plt.title('Promotion Imbalance \\n Percentage Distribution \\n \\n (0: Not Promoted || 1: Promoted)', fontsize=12)"
   ]
  },
  {
   "cell_type": "markdown",
   "metadata": {},
   "source": [
    "The majority class, Not Promoted (0) = 91.54%.\n",
    "The minority class, Promoted (1) = 8.46%.\n",
    "This indicates that the Train dataset is heavily imbalanced, and as a result the model might suffer from underfitting.\n",
    "\n",
    "To fix this, the  $Synthetic$   $Minority$   $Over-sampling$    $Technique$   $(SMOTE)$ would be used to balance the Train Data"
   ]
  },
  {
   "cell_type": "markdown",
   "metadata": {},
   "source": [
    "## Solving the Imbalance Problem Using SMOTE"
   ]
  },
  {
   "cell_type": "markdown",
   "metadata": {},
   "source": [
    "### Creating the Target and Predictor Variables"
   ]
  },
  {
   "cell_type": "code",
   "execution_count": 59,
   "metadata": {},
   "outputs": [
    {
     "data": {
      "text/plain": [
       "((38312, 38), (38312,))"
      ]
     },
     "execution_count": 59,
     "metadata": {},
     "output_type": "execute_result"
    }
   ],
   "source": [
    "X = Encoded_Data\n",
    "Y = Encoded_Data['Promoted_or_Not']\n",
    "\n",
    "X.shape, Y.shape"
   ]
  },
  {
   "cell_type": "markdown",
   "metadata": {},
   "source": [
    "## Splitting the Encoded_Features Dataset into Train and Test Sets"
   ]
  },
  {
   "cell_type": "code",
   "execution_count": 60,
   "metadata": {},
   "outputs": [],
   "source": [
    "from sklearn.model_selection import train_test_split\n",
    "X_train, X_test, y_train, y_test = train_test_split(X, Y, test_size=0.2, random_state=42)"
   ]
  },
  {
   "cell_type": "code",
   "execution_count": 78,
   "metadata": {},
   "outputs": [
    {
     "name": "stdout",
     "output_type": "stream",
     "text": [
      "[(0, 35071), (1, 35071)]\n"
     ]
    }
   ],
   "source": [
    "# importing SMOTE\n",
    "from imblearn.over_sampling import SMOTE\n",
    "from collections import Counter\n",
    "\n",
    "# applying SMOTE to our data and checking the class counts\n",
    "X_resampled, Y_resampled = SMOTE().fit_resample(X, Y)\n",
    "print(sorted(Counter(y_resampled).items()))"
   ]
  },
  {
   "cell_type": "code",
   "execution_count": null,
   "metadata": {},
   "outputs": [],
   "source": []
  },
  {
   "cell_type": "code",
   "execution_count": 79,
   "metadata": {},
   "outputs": [
    {
     "name": "stdout",
     "output_type": "stream",
     "text": [
      "Label Distributions: \n",
      "\n",
      "[0.91601684 0.08398316]\n",
      "[0.91295837 0.08704163]\n"
     ]
    }
   ],
   "source": [
    "# Checking if the train and test labels are evenly distributed\n",
    "train_unique_label, train_counts_label = np.unique(y_train, return_counts=True)\n",
    "test_unique_label, test_counts_label = np.unique(y_test, return_counts=True)\n",
    "\n",
    "print('Label Distributions: \\n')\n",
    "print(train_counts_label/ len(y_train))\n",
    "print(test_counts_label/ len(y_test))"
   ]
  },
  {
   "cell_type": "code",
   "execution_count": 63,
   "metadata": {},
   "outputs": [],
   "source": [
    "# Machine Learning\n",
    "from sklearn import svm  \n",
    "from sklearn.ensemble import RandomForestClassifier, GradientBoostingClassifier\n",
    "from sklearn.ensemble import RandomForestRegressor, GradientBoostingRegressor\n",
    "from sklearn.neighbors import KNeighborsClassifier\n",
    "from xgboost import XGBClassifier\n",
    "from sklearn.linear_model import LogisticRegression \n",
    "from sklearn.tree import DecisionTreeClassifier \n",
    "from sklearn.metrics import accuracy_score, confusion_matrix, classification_report\n",
    "from sklearn.metrics import mean_squared_error\n",
    "from collections import Counter\n",
    "from sklearn.svm import LinearSVC, SVC, SVR\n",
    "from statsmodels.stats.outliers_influence import variance_inflation_factor as VIF\n",
    "from scipy.stats import skew\n",
    "from sklearn.model_selection import validation_curve, cross_val_score, KFold\n",
    "from sklearn.model_selection import GridSearchCV, RandomizedSearchCV\n",
    "from sklearn.pipeline import Pipeline\n",
    "from sklearn.preprocessing import StandardScaler\n",
    "from sklearn.decomposition import PCA\n",
    "import xgboost as xgb\n",
    "\n",
    "# roc curve and auc score\n",
    "from sklearn.metrics import roc_curve,roc_auc_score,auc"
   ]
  },
  {
   "cell_type": "markdown",
   "metadata": {},
   "source": [
    "### Predictions"
   ]
  },
  {
   "cell_type": "code",
   "execution_count": 64,
   "metadata": {},
   "outputs": [],
   "source": [
    "def Display_Scores(scores):\n",
    "    print(\"Scores: {0}\\nMean: {1:.3f}\\nStd: {2:.3f}\".format(scores, np.mean(scores), \n",
    "                                                            np.std(scores)))"
   ]
  },
  {
   "cell_type": "markdown",
   "metadata": {},
   "source": [
    "###  Hyperparameter Tuning"
   ]
  },
  {
   "cell_type": "code",
   "execution_count": 66,
   "metadata": {},
   "outputs": [],
   "source": [
    "# using PCA and XGBoosting Classifier \n",
    "pipeline = Pipeline([('Scaling', StandardScaler()), ('pca', PCA(random_state = 42, )), \n",
    "                     ('boosting', XGBClassifier(objective=\"binary:logistic\", \n",
    "                                               reg_alpha=0.01, random_state=42, \n",
    "                                               eval_metric=[\"auc\", \"error\",'logloss',\"error@0.6\"]))])\n",
    "\n",
    "# Getting Parameters for the grid\n",
    "\n",
    "param_grid = {\n",
    "    'pca__n_components':[5, 10, 15, 20, 25],\n",
    "    'boosting__learning_rate':[0.0001, 0.001, 0.01, 0.1],\n",
    "    'boosting__n_estimators':[100, 150]\n",
    "}"
   ]
  },
  {
   "cell_type": "code",
   "execution_count": 67,
   "metadata": {},
   "outputs": [
    {
     "data": {
      "text/plain": [
       "RandomizedSearchCV(cv=5, error_score='raise-deprecating',\n",
       "                   estimator=Pipeline(memory=None,\n",
       "                                      steps=[('Scaling',\n",
       "                                              StandardScaler(copy=True,\n",
       "                                                             with_mean=True,\n",
       "                                                             with_std=True)),\n",
       "                                             ('pca',\n",
       "                                              PCA(copy=True,\n",
       "                                                  iterated_power='auto',\n",
       "                                                  n_components=None,\n",
       "                                                  random_state=42,\n",
       "                                                  svd_solver='auto', tol=0.0,\n",
       "                                                  whiten=False)),\n",
       "                                             ('boosting',\n",
       "                                              XGBClassifier(base_score=0.5,\n",
       "                                                            booster='gbtree',\n",
       "                                                            colsample_byl...\n",
       "                                                            scale_pos_weight=1,\n",
       "                                                            seed=None,\n",
       "                                                            silent=None,\n",
       "                                                            subsample=1,\n",
       "                                                            verbosity=1))],\n",
       "                                      verbose=False),\n",
       "                   iid='warn', n_iter=10, n_jobs=None,\n",
       "                   param_distributions={'boosting__learning_rate': [0.0001,\n",
       "                                                                    0.001, 0.01,\n",
       "                                                                    0.1],\n",
       "                                        'boosting__n_estimators': [100, 150],\n",
       "                                        'pca__n_components': [5, 10, 15, 20,\n",
       "                                                              25]},\n",
       "                   pre_dispatch='2*n_jobs', random_state=None, refit=True,\n",
       "                   return_train_score=False, scoring=None, verbose=0)"
      ]
     },
     "execution_count": 67,
     "metadata": {},
     "output_type": "execute_result"
    }
   ],
   "source": [
    "Random = RandomizedSearchCV(pipeline, param_distributions=param_grid, cv=5)\n",
    "Random.fit(X, Y)"
   ]
  },
  {
   "cell_type": "code",
   "execution_count": 80,
   "metadata": {},
   "outputs": [
    {
     "name": "stdout",
     "output_type": "stream",
     "text": [
      "0.984992 (0.001287) with: {'pca__n_components': 15, 'boosting__n_estimators': 100, 'boosting__learning_rate': 0.1}\n",
      "0.931014 (0.001927) with: {'pca__n_components': 5, 'boosting__n_estimators': 150, 'boosting__learning_rate': 0.01}\n",
      "0.957220 (0.001968) with: {'pca__n_components': 20, 'boosting__n_estimators': 100, 'boosting__learning_rate': 0.0001}\n",
      "0.946857 (0.002994) with: {'pca__n_components': 10, 'boosting__n_estimators': 150, 'boosting__learning_rate': 0.001}\n",
      "0.930048 (0.001893) with: {'pca__n_components': 5, 'boosting__n_estimators': 100, 'boosting__learning_rate': 0.0001}\n",
      "0.962884 (0.001237) with: {'pca__n_components': 15, 'boosting__n_estimators': 100, 'boosting__learning_rate': 0.01}\n",
      "0.951190 (0.003153) with: {'pca__n_components': 10, 'boosting__n_estimators': 100, 'boosting__learning_rate': 0.01}\n",
      "0.987706 (0.000843) with: {'pca__n_components': 20, 'boosting__n_estimators': 100, 'boosting__learning_rate': 0.1}\n",
      "0.957846 (0.001857) with: {'pca__n_components': 20, 'boosting__n_estimators': 150, 'boosting__learning_rate': 0.0001}\n",
      "0.946022 (0.002985) with: {'pca__n_components': 10, 'boosting__n_estimators': 100, 'boosting__learning_rate': 0.0001}\n"
     ]
    }
   ],
   "source": [
    "means = Random.cv_results_['mean_test_score']\n",
    "stds = Random.cv_results_['std_test_score']\n",
    "params = Random.cv_results_['params']\n",
    "for mean, stdev, param in zip(means, stds, params):\n",
    "    print(\"%f (%f) with: %r\" % (mean, stdev, param))"
   ]
  },
  {
   "cell_type": "code",
   "execution_count": 81,
   "metadata": {},
   "outputs": [
    {
     "name": "stdout",
     "output_type": "stream",
     "text": [
      "Best: 0.987706 using {'pca__n_components': 20, 'boosting__n_estimators': 100, 'boosting__learning_rate': 0.1}\n"
     ]
    }
   ],
   "source": [
    "print(\"Best: %f using %s\" % (Random.best_score_, \n",
    "    Random.best_params_))"
   ]
  },
  {
   "cell_type": "markdown",
   "metadata": {},
   "source": [
    "## Fitting The Models"
   ]
  },
  {
   "cell_type": "markdown",
   "metadata": {},
   "source": [
    "### Fitting with Binary Logistic Regression"
   ]
  },
  {
   "cell_type": "code",
   "execution_count": 82,
   "metadata": {},
   "outputs": [
    {
     "name": "stdout",
     "output_type": "stream",
     "text": [
      "[0 1]\n",
      "Accuracy: 1.00%\n",
      "              precision    recall  f1-score   support\n",
      "\n",
      "           0       1.00      1.00      1.00      6996\n",
      "           1       1.00      1.00      1.00       667\n",
      "\n",
      "    accuracy                           1.00      7663\n",
      "   macro avg       1.00      1.00      1.00      7663\n",
      "weighted avg       1.00      1.00      1.00      7663\n",
      "\n",
      "Confusion matrix:\n",
      " [[6996    0]\n",
      " [   0  667]]\n",
      "Cross_Val_Score : [0.99871703 0.99750499 0.99657827 0.99636441 0.99807528]\n"
     ]
    }
   ],
   "source": [
    "lr = LogisticRegression(random_state=42, solver ='saga', tol= 0.9)\n",
    "lr = lr.fit(X_resampled, Y_resampled)\n",
    "pred_y = lr.predict(X_test)\n",
    "\n",
    "# How is our Accuracy level?\n",
    "print(np.unique(pred_y))\n",
    "print(\"Accuracy: %.2f%%\" % accuracy_score(y_test, pred_y))\n",
    "print(classification_report(y_test, pred_y))\n",
    "\n",
    "# Confusion Matrix\n",
    "conf_mat = confusion_matrix(y_true = y_test, y_pred = pred_y)\n",
    "print('Confusion matrix:\\n', conf_mat)\n",
    "\n",
    "# Cross Validation Score\n",
    "print('Cross_Val_Score :', cross_val_score(lr, x_resampled, y_resampled, cv = 5))"
   ]
  },
  {
   "cell_type": "code",
   "execution_count": 83,
   "metadata": {},
   "outputs": [
    {
     "name": "stdout",
     "output_type": "stream",
     "text": [
      "Scores: [0.047758   0.02924777 0.04136259 0.02669944 0.03680264]\n",
      "Mean: 0.036\n",
      "Std: 0.008\n"
     ]
    }
   ],
   "source": [
    "scores = cross_val_score(lr, X_resampled, Y_resampled, \n",
    "                         scoring=\"neg_mean_squared_error\", cv=5)\n",
    "\n",
    "Display_Scores(np.sqrt(-scores))"
   ]
  },
  {
   "cell_type": "markdown",
   "metadata": {},
   "source": [
    "### Fitting with Support Vector Machine (SVM)"
   ]
  },
  {
   "cell_type": "code",
   "execution_count": 90,
   "metadata": {},
   "outputs": [
    {
     "name": "stdout",
     "output_type": "stream",
     "text": [
      "[0 1]\n",
      "Accuracy: 0.43%\n",
      "              precision    recall  f1-score   support\n",
      "\n",
      "           0       0.89      0.43      0.58      6996\n",
      "           1       0.07      0.42      0.11       667\n",
      "\n",
      "    accuracy                           0.43      7663\n",
      "   macro avg       0.48      0.42      0.35      7663\n",
      "weighted avg       0.81      0.43      0.54      7663\n",
      "\n",
      "Confusion matrix:\n",
      " [[3010 3986]\n",
      " [ 388  279]]\n",
      "Cross_Val_Score : [0.43228795 0.429712   0.42543484 0.4261477  0.43028229]\n"
     ]
    }
   ],
   "source": [
    "# Building a basic SVM model using the SVC method\n",
    "supportvector = SVC(random_state=42, decision_function_shape='ovr', probability=False, \n",
    "                    gamma='scale', kernel='sigmoid')\n",
    "supportvector.fit(X_resampled, Y_resampled)\n",
    "s_predict = supportvector.predict(X_test)\n",
    "\n",
    "# How is our Accuracy Level?\n",
    "print(np.unique(s_predict))\n",
    "print(\"Accuracy: %.2f%%\" % accuracy_score(y_test, s_predict))\n",
    "print(classification_report(y_test , s_predict))\n",
    "\n",
    "# Confusion Matrix\n",
    "conf_mat = confusion_matrix(y_true=y_test, y_pred=s_predict)\n",
    "print('Confusion matrix:\\n', conf_mat)\n",
    "\n",
    "# Cross Validation Score\n",
    "print('Cross_Val_Score :', cross_val_score(supportvector,X_resampled,Y_resampled, cv=5))"
   ]
  },
  {
   "cell_type": "code",
   "execution_count": null,
   "metadata": {},
   "outputs": [],
   "source": [
    "scores = cross_val_score(supportvector, X_resampled, Y_resampled, \n",
    "                         scoring=\"neg_mean_squared_error\", cv=5)\n",
    "\n",
    "Display_Scores(np.sqrt(-scores))"
   ]
  },
  {
   "cell_type": "markdown",
   "metadata": {},
   "source": [
    "### Fitting with Decision Tree Classifier"
   ]
  },
  {
   "cell_type": "code",
   "execution_count": 84,
   "metadata": {},
   "outputs": [
    {
     "name": "stdout",
     "output_type": "stream",
     "text": [
      "[0 1]\n",
      "Accuracy: 0.89%\n",
      "              precision    recall  f1-score   support\n",
      "\n",
      "           0       0.97      0.91      0.94      6996\n",
      "           1       0.43      0.75      0.55       667\n",
      "\n",
      "    accuracy                           0.89      7663\n",
      "   macro avg       0.70      0.83      0.74      7663\n",
      "weighted avg       0.93      0.89      0.90      7663\n",
      "\n",
      "Confusion matrix:\n",
      " [[6337  659]\n",
      " [ 166  501]]\n",
      "Cross_Val_Score : [0.8230221  0.9831765  0.99992871 0.91766467 0.89827488]\n"
     ]
    }
   ],
   "source": [
    "# Implementing a basic decision tree using DecisionTreeClassifier method\n",
    "decisionTree = DecisionTreeClassifier(random_state=42,splitter='random', max_depth=9,\n",
    "                                      criterion='gini', max_features='auto')\n",
    "decisionTree = decisionTree.fit(X_resampled, Y_resampled)\n",
    "dtc_predict = decisionTree.predict(X_test)\n",
    "\n",
    "# What is our Accuracy Level?\n",
    "print(np.unique(dtc_predict))\n",
    "print(\"Accuracy: %.2f%%\" % accuracy_score(y_test, dtc_predict))\n",
    "print(classification_report(y_test, dtc_predict))\n",
    "\n",
    "# Confusion Matrix\n",
    "conf_mat = confusion_matrix(y_true=y_test, y_pred=dtc_predict)\n",
    "print('Confusion matrix:\\n', conf_mat)\n",
    "\n",
    "# Cross Validation Score\n",
    "print('Cross_Val_Score :', cross_val_score(decisionTree,X_resampled,Y_resampled, cv=5))"
   ]
  },
  {
   "cell_type": "code",
   "execution_count": 85,
   "metadata": {},
   "outputs": [
    {
     "name": "stdout",
     "output_type": "stream",
     "text": [
      "Scores: [0.42068742 0.12970542 0.0084431  0.28694133 0.31894376]\n",
      "Mean: 0.233\n",
      "Std: 0.146\n"
     ]
    }
   ],
   "source": [
    "scores = cross_val_score(decisionTree, X_resampled, Y_resampled, \n",
    "                         scoring=\"neg_mean_squared_error\", cv=5)\n",
    "\n",
    "Display_Scores(np.sqrt(-scores))"
   ]
  },
  {
   "cell_type": "markdown",
   "metadata": {},
   "source": [
    "### Fitting with Random Forest Classifier"
   ]
  },
  {
   "cell_type": "code",
   "execution_count": 86,
   "metadata": {},
   "outputs": [
    {
     "name": "stdout",
     "output_type": "stream",
     "text": [
      "[0 1]\n",
      "Accuracy: 1.00%\n",
      "              precision    recall  f1-score   support\n",
      "\n",
      "           0       1.00      1.00      1.00      6996\n",
      "           1       1.00      1.00      1.00       667\n",
      "\n",
      "    accuracy                           1.00      7663\n",
      "   macro avg       1.00      1.00      1.00      7663\n",
      "weighted avg       1.00      1.00      1.00      7663\n",
      "\n",
      "Confusion matrix:\n",
      " [[6996    0]\n",
      " [   0  667]]\n",
      "Cross_Val_Score : [1. 1. 1. 1. 1.]\n"
     ]
    }
   ],
   "source": [
    "# Building a basic random forest using the RandomForestClassifier method\n",
    "randomforest = RandomForestClassifier(random_state=42, n_estimators=1000, \n",
    "                                      criterion= 'gini', oob_score=True)\n",
    "randomforest.fit(X_resampled, Y_resampled)\n",
    "rfc_predict = randomforest.predict(X_test)\n",
    "\n",
    "# What is our Accuracy Level?\n",
    "print(np.unique(rfc_predict))\n",
    "print(\"Accuracy: %.2f%%\" % accuracy_score(y_test, rfc_predict))\n",
    "print(classification_report(y_test, rfc_predict))\n",
    "\n",
    "# Confusion Matrix\n",
    "conf_mat = confusion_matrix(y_true=y_test, y_pred=rfc_predict)\n",
    "print('Confusion matrix:\\n', conf_mat)\n",
    "\n",
    "# Cross Validation Score\n",
    "print('Cross_Val_Score :', cross_val_score(randomforest,X_resampled,Y_resampled, cv=5))"
   ]
  },
  {
   "cell_type": "code",
   "execution_count": 87,
   "metadata": {},
   "outputs": [
    {
     "name": "stdout",
     "output_type": "stream",
     "text": [
      "Scores: [0. 0. 0. 0. 0.]\n",
      "Mean: 0.000\n",
      "Std: 0.000\n"
     ]
    }
   ],
   "source": [
    "scores = cross_val_score(randomforest, X_resampled, Y_resampled, \n",
    "                         scoring=\"neg_mean_squared_error\", cv=5)\n",
    "\n",
    "Display_Scores(np.sqrt(-scores))"
   ]
  },
  {
   "cell_type": "markdown",
   "metadata": {},
   "source": [
    "### Fitting with XgBoost Classifier"
   ]
  },
  {
   "cell_type": "code",
   "execution_count": 88,
   "metadata": {},
   "outputs": [
    {
     "name": "stdout",
     "output_type": "stream",
     "text": [
      "[0 1]\n",
      "Accuracy: 100.00%\n",
      "              precision    recall  f1-score   support\n",
      "\n",
      "           0       1.00      1.00      1.00      6996\n",
      "           1       1.00      1.00      1.00       667\n",
      "\n",
      "    accuracy                           1.00      7663\n",
      "   macro avg       1.00      1.00      1.00      7663\n",
      "weighted avg       1.00      1.00      1.00      7663\n",
      "\n",
      "Confusion matrix:\n",
      " [[6996    0]\n",
      " [   0  667]]\n",
      "Cross_Val_Score : [1. 1. 1. 1. 1.]\n"
     ]
    }
   ],
   "source": [
    "# fit XgBoost model on training data\n",
    "xgb_model = XGBClassifier(objective=\"binary:logistic\", reg_alpha=0.01, \n",
    "                          random_state=42, learning_rate=0.1, n_estimators=200,\n",
    "                          eval_metric=[\"auc\", \"error\",'logloss',\"error@0.6\"])\n",
    "\n",
    "xgb_model.fit(X_resampled, Y_resampled, early_stopping_rounds=10, \n",
    "              eval_set=[(X_resampled, Y_resampled),(X_test.values, y_test.values)], \n",
    "              verbose=False)\n",
    "\n",
    "# make predictions for test data\n",
    "y_predict = xgb_model.predict(X_test.values)\n",
    "\n",
    "# evaluate predictions and Printing the Accuracy Level\n",
    "print(np.unique(y_predict))\n",
    "accuracy = accuracy_score(y_test, y_predict)\n",
    "print(\"Accuracy: %.2f%%\" % (accuracy * 100.0))\n",
    "classification = classification_report(y_test, y_predict)\n",
    "print(classification)\n",
    "\n",
    "# Confusion Matrix\n",
    "conf_mat = confusion_matrix(y_true=y_test, y_pred=y_predict)\n",
    "print('Confusion matrix:\\n', conf_mat)\n",
    "\n",
    "# Cross Validation Score\n",
    "print('Cross_Val_Score :', cross_val_score(xgb_model,X_resampled,Y_resampled, cv=5))"
   ]
  },
  {
   "cell_type": "code",
   "execution_count": 89,
   "metadata": {},
   "outputs": [
    {
     "name": "stdout",
     "output_type": "stream",
     "text": [
      "Scores: [0. 0. 0. 0. 0.]\n",
      "Mean: 0.000\n",
      "Std: 0.000\n",
      "best score: 0.0,\n",
      " best iteration: 2,\n",
      " best ntree limit 3\n"
     ]
    }
   ],
   "source": [
    "scores = cross_val_score(xgb_model, X_resampled, Y_resampled, \n",
    "                         scoring=\"neg_mean_squared_error\", cv=5)\n",
    "\n",
    "Display_Scores(np.sqrt(-scores))\n",
    "\n",
    "print(\"best score: {0},\\n best iteration: {1},\\n best ntree limit {2}\".format(xgb_model.best_score, \n",
    "      xgb_model.best_iteration, xgb_model.best_ntree_limit))"
   ]
  },
  {
   "cell_type": "code",
   "execution_count": null,
   "metadata": {},
   "outputs": [],
   "source": []
  },
  {
   "cell_type": "markdown",
   "metadata": {},
   "source": [
    "## ROC Curve for the All Five Models"
   ]
  },
  {
   "cell_type": "code",
   "execution_count": 92,
   "metadata": {},
   "outputs": [],
   "source": [
    "# Computing ROC curve and ROC area for all five Models\n",
    "# For Logistic Regression\n",
    "lr_fpr, lr_tpr, lr_thresholds = roc_curve(y_test.values, pred_y)\n",
    "lr_roc_auc = auc(lr_fpr, lr_tpr)\n",
    "\n",
    "# For Support Vector Machine\n",
    "svm_fpr, svm_tpr, svm_thresholds = roc_curve(y_test.values, s_predict)\n",
    "svm_roc_auc = auc(svm_fpr, svm_tpr)\n",
    "\n",
    "# For Random Forest Classifier\n",
    "rfc_fpr, rfc_tpr, rfc_thresholds = roc_curve(y_test.values, rfc_predict)\n",
    "rfc_roc_auc = auc(rfc_fpr, rfc_tpr)\n",
    "\n",
    "# For Decision Tree Classifier\n",
    "dtc_fpr, dtc_tpr, dtc_thresholds = roc_curve(y_test.values, dtc_predict)\n",
    "dtc_roc_auc = auc(dtc_fpr, dtc_tpr)\n",
    "\n",
    "# For XGBoost Classifier\n",
    "xgb_fpr, xgb_tpr, xgb_thresholds = roc_curve(y_test.values, y_predict)\n",
    "xgb_roc_auc = auc(xgb_fpr, xgb_tpr)"
   ]
  },
  {
   "cell_type": "code",
   "execution_count": 93,
   "metadata": {},
   "outputs": [
    {
     "data": {
      "text/plain": [
       "1.0"
      ]
     },
     "execution_count": 93,
     "metadata": {},
     "output_type": "execute_result"
    }
   ],
   "source": [
    "# The ROC_auc Score\n",
    "ROC_Score = roc_auc_score(y_test, y_predict)\n",
    "ROC_Score"
   ]
  },
  {
   "cell_type": "markdown",
   "metadata": {},
   "source": [
    "#### Plotting the ROC Curve"
   ]
  },
  {
   "cell_type": "code",
   "execution_count": 114,
   "metadata": {},
   "outputs": [
    {
     "data": {
      "image/png": "[encoded data removed]",
      "text/plain": [
       "<Figure size 700x700 with 1 Axes>"
      ]
     },
     "metadata": {},
     "output_type": "display_data"
    }
   ],
   "source": [
    "plt.figure(figsize=(7,7))\n",
    "sns.lineplot(lr_fpr, lr_tpr, color = 'black',\n",
    "         label='Logistic Regression ROC (area = %0.2f)'%lr_roc_auc, linewidth=10,linestyle='-')\n",
    "sns.lineplot(svm_fpr,svm_tpr, color = 'navy', \n",
    "         label='Support Vector Machine (area = %0.2f)'%svm_roc_auc, linewidth=2,linestyle=':')\n",
    "plt.plot(rfc_fpr,rfc_tpr, color = 'blue', \n",
    "         label='Random Forest Classifier (area = %0.2f)'%rfc_roc_auc, linewidth=3,linestyle='--')\n",
    "plt.plot(dtc_fpr,dtc_tpr, color = 'cyan', \n",
    "         label='Decision Tree Classifier (area = %0.2f)'%dtc_roc_auc, linewidth=4,linestyle='-.')\n",
    "sns.lineplot(xgb_fpr,xgb_tpr, color = 'magenta', \n",
    "         label='XGBoost Classifier (area = %0.2f)'%xgb_roc_auc, linewidth=2, linestyle='dotted')\n",
    "plt.legend(prop = {'size':13},loc='best')\n",
    "plt.title('Receiver Operating Characteristic (ROC Curve) for all models with ROC_Score = %0.2f'%ROC_Score)\n",
    "plt.xlabel('False Positive Rate', fontsize = 15)\n",
    "plt.ylabel('True Positive Rate', fontsize = 15)\n",
    "plt.show()"
   ]
  },
  {
   "cell_type": "markdown",
   "metadata": {},
   "source": [
    "## Maximum Hard Voting Ensemble for all five Models"
   ]
  },
  {
   "cell_type": "code",
   "execution_count": 123,
   "metadata": {},
   "outputs": [],
   "source": [
    "from sklearn.ensemble import VotingClassifier\n",
    "voting_clf_hard = VotingClassifier(\n",
    "estimators = [('logistic', lr), ('Decision Tree', decisionTree), ('Random Forest', randomforest), ('SVM', supportvector), ('XGB', xgb_model)],\n",
    "voting = 'hard')\n",
    "\n",
    "voting_clf_soft = VotingClassifier(\n",
    "estimators = [('logistic', lr), ('Decision Tree', decisionTree), ('Random Forest', randomforest), ('SVM', supportvector), ('XGB', xgb_model)],\n",
    "voting = 'soft')\n",
    "\n",
    "voting_clf_weighted = VotingClassifier(\n",
    "estimators = [('logistic', lr), ('Decision Tree', decisionTree), ('Random Forest', randomforest), ('SVM', supportvector), ('XGB', xgb_model)],\n",
    "voting = 'hard', weights=[2,1,2,2,3]).fit(X_train, y_train)"
   ]
  },
  {
   "cell_type": "markdown",
   "metadata": {},
   "source": [
    "### Using the F1 Score to determine the best Models"
   ]
  },
  {
   "cell_type": "code",
   "execution_count": 124,
   "metadata": {},
   "outputs": [
    {
     "name": "stderr",
     "output_type": "stream",
     "text": [
      "C:\\Users\\hp\\Anaconda3\\lib\\site-packages\\sklearn\\metrics\\classification.py:1437: UndefinedMetricWarning: F-score is ill-defined and being set to 0.0 in labels with no predicted samples.\n",
      "  'precision', 'predicted', average, warn_for)\n",
      "C:\\Users\\hp\\Anaconda3\\lib\\site-packages\\sklearn\\metrics\\classification.py:1437: UndefinedMetricWarning: F-score is ill-defined and being set to 0.0 in labels with no predicted samples.\n",
      "  'precision', 'predicted', average, warn_for)\n"
     ]
    },
    {
     "name": "stdout",
     "output_type": "stream",
     "text": [
      "F1 Score: 0.48 [Logistic RegressionDecision Tree]\n",
      "F1 Score: 0.97 [Random Forest]\n",
      "F1 Score: 1.00 [Support Vector]\n",
      "F1 Score: 0.48 [XGBoost]\n",
      "F1 Score: 1.00 [Hard Voting Ensemble]\n"
     ]
    }
   ],
   "source": [
    "from sklearn import model_selection\n",
    "from sklearn import metrics\n",
    "labels = ['Logistic Regression' 'Decision Tree', 'Random Forest', 'Support Vector', 'XGBoost','Hard Voting Ensemble']\n",
    "for (clf, label) in zip([lr, decisionTree, randomforest, supportvector, xgb_model, voting_clf_hard, voting_clf_soft, voting_clf_weighted], labels):\n",
    "    \n",
    "    scores = model_selection.cross_val_score(clf, X_train, y_train,\n",
    "                                            cv=5,\n",
    "                                            scoring=metrics.make_scorer(metrics.scorer.f1_score, average='macro'))\n",
    "    print('F1 Score: %0.2f [%s]'\n",
    "         % (scores.mean(), label))"
   ]
  },
  {
   "cell_type": "markdown",
   "metadata": {},
   "source": [
    "## From the above outcome, using the F1 Score, the best model is Support Vector Machine (SVM) at 100%"
   ]
  },
  {
   "cell_type": "code",
   "execution_count": null,
   "metadata": {},
   "outputs": [],
   "source": []
  }
 ],
 "metadata": {
  "kernelspec": {
   "display_name": "Python 3",
   "language": "python",
   "name": "python3"
  },
  "language_info": {
   "codemirror_mode": {
    "name": "ipython",
    "version": 3
   },
   "file_extension": ".py",
   "mimetype": "text/x-python",
   "name": "python",
   "nbconvert_exporter": "python",
   "pygments_lexer": "ipython3",
   "version": "3.7.3"
  }
 },
 "nbformat": 4,
 "nbformat_minor": 4
}
